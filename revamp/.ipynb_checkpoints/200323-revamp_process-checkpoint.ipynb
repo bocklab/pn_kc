{
 "cells": [
  {
   "cell_type": "code",
   "execution_count": 12,
   "metadata": {},
   "outputs": [],
   "source": [
    "import sys\n",
    "sys.path.append('/Users/zhengz11/myscripts/git_clone/pn_kc/')\n",
    "import mushroom_2to3.connect as cc"
   ]
  },
  {
   "cell_type": "code",
   "execution_count": 13,
   "metadata": {},
   "outputs": [],
   "source": [
    "# credential, to delete when push to remote\n",
    "sys.path.append('/Users/zhengz11/myscripts/mushroom_v9/credential/')\n",
    "from fafb_tokens import token\n",
    "fafb_c = cc.fafb_connection(token)"
   ]
  },
  {
   "cell_type": "code",
   "execution_count": 14,
   "metadata": {},
   "outputs": [],
   "source": [
    "pn_skids = cc.get_skids_from_annos(\n",
    "    fafb_c, [['right_calyx_PN'], ['has_bouton']], [\"multiglomerular PN\"])\n",
    "\n",
    "# get KC skeleton ids from CATMAID\n",
    "# rd is random draw manually traced KCs\n",
    "rd = cc.get_skids_from_annos(fafb_c,\n",
    "                             [['Random Draw 1 KC', 'Random Draw 2 KC'], ['Complete']],\n",
    "                             ['KCaBp', 'KCyd'])\n",
    "\n",
    "t1p = cc.get_skids_from_annos(fafb_c,\n",
    "                             [['T1+ Complete']])\n",
    "\n",
    "\n",
    "bundle = cc.get_skids_from_annos(fafb_c,\n",
    "    [['Bundle 1 Seed', 'Different Tracing Protocol in Bundle 1'], ['Complete']], ['KCaBp', 'KCyd'])"
   ]
  },
  {
   "cell_type": "code",
   "execution_count": 28,
   "metadata": {},
   "outputs": [],
   "source": [
    "import json\n",
    "save_path = \"/Users/zhengz11/myscripts/git_clone/pn_kc/data/skids/\"\n",
    "\n",
    "def save_json(js, file_name):\n",
    "    with open(file_name, 'w+') as file:\n",
    "        json.dump(js, file)\n",
    "    file.close()\n",
    "    \n",
    "save_json(rd, save_path + \"RandomDraw.txt\")\n",
    "save_json(t1p, save_path + \"t1p.txt\")\n",
    "save_json(bundle, save_path + \"bundle.txt\")\n",
    "\n",
    "def load_json(f):\n",
    "    with open(f) as file:\n",
    "        load = json.load(file)\n",
    "    return load"
   ]
  },
  {
   "cell_type": "code",
   "execution_count": 27,
   "metadata": {},
   "outputs": [],
   "source": []
  },
  {
   "cell_type": "code",
   "execution_count": null,
   "metadata": {},
   "outputs": [],
   "source": []
  }
 ],
 "metadata": {
  "kernelspec": {
   "display_name": "Python 3",
   "language": "python",
   "name": "python3"
  },
  "language_info": {
   "codemirror_mode": {
    "name": "ipython",
    "version": 3
   },
   "file_extension": ".py",
   "mimetype": "text/x-python",
   "name": "python",
   "nbconvert_exporter": "python",
   "pygments_lexer": "ipython3",
   "version": "3.7.3"
  }
 },
 "nbformat": 4,
 "nbformat_minor": 4
}
