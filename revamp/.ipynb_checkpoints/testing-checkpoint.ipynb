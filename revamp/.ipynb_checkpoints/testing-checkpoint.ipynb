{
 "cells": [
  {
   "cell_type": "code",
   "execution_count": 1,
   "metadata": {},
   "outputs": [],
   "source": [
    "local_path = \"/Users/zhengz11/myscripts/git_clone/pn_kc/\"\n",
    "exec(open(local_path + \"connectivity/startup.py\").read())"
   ]
  },
  {
   "cell_type": "code",
   "execution_count": 6,
   "metadata": {},
   "outputs": [
    {
     "name": "stderr",
     "output_type": "stream",
     "text": [
      "/Users/zhengz11/myscripts/git_clone/pn_kc/mushroom_2to3/build_connectivity.py:541: RuntimeWarning: invalid value encountered in double_scalars\n",
      "  n = ci_matrix[col, row]*2 / np.sum(conn[(col,row),:])\n"
     ]
    }
   ],
   "source": [
    "exec(open(local_path + \"connectivity/analysis.py\").read())"
   ]
  },
  {
   "cell_type": "code",
   "execution_count": null,
   "metadata": {},
   "outputs": [],
   "source": [
    "# above are all good"
   ]
  },
  {
   "cell_type": "code",
   "execution_count": 31,
   "metadata": {},
   "outputs": [
    {
     "data": {
      "text/plain": [
       "0.0    151\n",
       "1.0     94\n",
       "2.0     74\n",
       "3.0     56\n",
       "4.0     40\n",
       "5.0     19\n",
       "6.0      4\n",
       "7.0      2\n",
       "dtype: int64"
      ]
     },
     "execution_count": 31,
     "metadata": {},
     "output_type": "execute_result"
    }
   ],
   "source": [
    "comm_anno_ids = df_lookup('glom_id', comm_ids,'glom_anno_id', glom_btn_table)\n",
    "\n",
    "comm_idx = find_elements(ana_rd.conn_data['glom_kc_in_claw_unit'].col_ids, comm_anno_ids)\n",
    "\n",
    "comm_conn = ana_rd.conn_data['glom_kc_in_claw_unit'].conn['1s'][:,comm_idx]\n",
    "\n",
    "pd.Series(comm_conn.sum(1)).value_counts()\n",
    "\n"
   ]
  },
  {
   "cell_type": "code",
   "execution_count": 23,
   "metadata": {},
   "outputs": [
    {
     "data": {
      "text/plain": [
       "array([[0., 0., 0., ..., 0., 0., 0.],\n",
       "       [0., 0., 0., ..., 0., 0., 0.],\n",
       "       [0., 0., 0., ..., 0., 0., 0.],\n",
       "       ...,\n",
       "       [0., 0., 0., ..., 0., 0., 0.],\n",
       "       [0., 0., 0., ..., 0., 0., 0.],\n",
       "       [0., 0., 0., ..., 0., 0., 0.]])"
      ]
     },
     "execution_count": 23,
     "metadata": {},
     "output_type": "execute_result"
    }
   ],
   "source": [
    "comm_conn"
   ]
  },
  {
   "cell_type": "code",
   "execution_count": 18,
   "metadata": {},
   "outputs": [
    {
     "data": {
      "text/plain": [
       "[1419110,\n",
       " 2500472,\n",
       " 1419073,\n",
       " 1419214,\n",
       " 1419219,\n",
       " 1419070,\n",
       " 1419230,\n",
       " 1419178,\n",
       " 1419211,\n",
       " 1283123]"
      ]
     },
     "execution_count": 18,
     "metadata": {},
     "output_type": "execute_result"
    }
   ],
   "source": [
    "comm_anno_ids = df_lookup('glom_id', comm_ids,'glom_anno_id', glom_btn_table)"
   ]
  },
  {
   "cell_type": "code",
   "execution_count": 17,
   "metadata": {},
   "outputs": [
    {
     "data": {
      "text/html": [
       "<div>\n",
       "<style scoped>\n",
       "    .dataframe tbody tr th:only-of-type {\n",
       "        vertical-align: middle;\n",
       "    }\n",
       "\n",
       "    .dataframe tbody tr th {\n",
       "        vertical-align: top;\n",
       "    }\n",
       "\n",
       "    .dataframe thead th {\n",
       "        text-align: right;\n",
       "    }\n",
       "</style>\n",
       "<table border=\"1\" class=\"dataframe\">\n",
       "  <thead>\n",
       "    <tr style=\"text-align: right;\">\n",
       "      <th></th>\n",
       "      <th>Unnamed: 0</th>\n",
       "      <th>bouton_count</th>\n",
       "      <th>glom_anno</th>\n",
       "      <th>glom_anno_id</th>\n",
       "      <th>glom_id</th>\n",
       "      <th>norm_bouton_count</th>\n",
       "      <th>short_glom_name</th>\n",
       "    </tr>\n",
       "  </thead>\n",
       "  <tbody>\n",
       "    <tr>\n",
       "      <th>0</th>\n",
       "      <td>0</td>\n",
       "      <td>22</td>\n",
       "      <td>glomerulus DA1</td>\n",
       "      <td>1419201</td>\n",
       "      <td>0</td>\n",
       "      <td>0.044</td>\n",
       "      <td>DA1</td>\n",
       "    </tr>\n",
       "    <tr>\n",
       "      <th>1</th>\n",
       "      <td>1</td>\n",
       "      <td>4</td>\n",
       "      <td>glomerulus VM4</td>\n",
       "      <td>1419198</td>\n",
       "      <td>1</td>\n",
       "      <td>0.008</td>\n",
       "      <td>VM4</td>\n",
       "    </tr>\n",
       "    <tr>\n",
       "      <th>2</th>\n",
       "      <td>2</td>\n",
       "      <td>5</td>\n",
       "      <td>glomerulus DA3</td>\n",
       "      <td>2500563</td>\n",
       "      <td>2</td>\n",
       "      <td>0.010</td>\n",
       "      <td>DA3</td>\n",
       "    </tr>\n",
       "    <tr>\n",
       "      <th>3</th>\n",
       "      <td>3</td>\n",
       "      <td>9</td>\n",
       "      <td>glomerulus VA6</td>\n",
       "      <td>2500515</td>\n",
       "      <td>3</td>\n",
       "      <td>0.018</td>\n",
       "      <td>VA6</td>\n",
       "    </tr>\n",
       "    <tr>\n",
       "      <th>4</th>\n",
       "      <td>4</td>\n",
       "      <td>11</td>\n",
       "      <td>glomerulus VA4</td>\n",
       "      <td>1283123</td>\n",
       "      <td>4</td>\n",
       "      <td>0.022</td>\n",
       "      <td>VA4</td>\n",
       "    </tr>\n",
       "  </tbody>\n",
       "</table>\n",
       "</div>"
      ],
      "text/plain": [
       "   Unnamed: 0  bouton_count       glom_anno  glom_anno_id  glom_id  \\\n",
       "0           0            22  glomerulus DA1       1419201        0   \n",
       "1           1             4  glomerulus VM4       1419198        1   \n",
       "2           2             5  glomerulus DA3       2500563        2   \n",
       "3           3             9  glomerulus VA6       2500515        3   \n",
       "4           4            11  glomerulus VA4       1283123        4   \n",
       "\n",
       "   norm_bouton_count short_glom_name  \n",
       "0              0.044             DA1  \n",
       "1              0.008             VM4  \n",
       "2              0.010             DA3  \n",
       "3              0.018             VA6  \n",
       "4              0.022             VA4  "
      ]
     },
     "execution_count": 17,
     "metadata": {},
     "output_type": "execute_result"
    }
   ],
   "source": [
    "glom_btn_table.head()"
   ]
  },
  {
   "cell_type": "code",
   "execution_count": 15,
   "metadata": {},
   "outputs": [
    {
     "data": {
      "text/plain": [
       "['DM2', 'DP1m', 'VM2', 'DL2v', 'DM3', 'DM4', 'DM1', 'VM3', 'VA2', 'VA4']"
      ]
     },
     "execution_count": 15,
     "metadata": {},
     "output_type": "execute_result"
    }
   ],
   "source": [
    "comm_gloms"
   ]
  },
  {
   "cell_type": "code",
   "execution_count": null,
   "metadata": {},
   "outputs": [],
   "source": []
  }
 ],
 "metadata": {
  "kernelspec": {
   "display_name": "Python 3",
   "language": "python",
   "name": "python3"
  },
  "language_info": {
   "codemirror_mode": {
    "name": "ipython",
    "version": 3
   },
   "file_extension": ".py",
   "mimetype": "text/x-python",
   "name": "python",
   "nbconvert_exporter": "python",
   "pygments_lexer": "ipython3",
   "version": "3.7.3"
  }
 },
 "nbformat": 4,
 "nbformat_minor": 4
}
