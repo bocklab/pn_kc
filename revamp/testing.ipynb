{
 "cells": [
  {
   "cell_type": "code",
   "execution_count": 1,
   "metadata": {},
   "outputs": [],
   "source": [
    "local_path = \"/Users/zhengz11/myscripts/git_clone/pn_kc/pn_kc/\"\n",
    "\n",
    "import sys\n",
    "import os\n",
    "sys.path.append(local_path)\n",
    "\n",
    "exec(open(local_path + \"connectivity/startup.py\").read())"
   ]
  },
  {
   "cell_type": "code",
   "execution_count": 2,
   "metadata": {},
   "outputs": [
    {
     "data": {
      "text/plain": [
       "'/Users/zhengz11/myscripts/git_clone/pn_kc/pn_kc/'"
      ]
     },
     "execution_count": 2,
     "metadata": {},
     "output_type": "execute_result"
    }
   ],
   "source": [
    "local_path"
   ]
  },
  {
   "cell_type": "code",
   "execution_count": 3,
   "metadata": {},
   "outputs": [
    {
     "name": "stderr",
     "output_type": "stream",
     "text": [
      "/Users/zhengz11/myscripts/git_clone/pn_kc/pn_kc/mushroom_2to3/build_connectivity.py:541: RuntimeWarning: invalid value encountered in double_scalars\n",
      "  n = ci_matrix[col, row]*2 / np.sum(conn[(col,row),:])\n"
     ]
    },
    {
     "ename": "FileNotFoundError",
     "evalue": "[Errno 2] No such file or directory: '/Users/zhengz11/myscripts/git_clone/pn_kc/data/skids/pn'",
     "output_type": "error",
     "traceback": [
      "\u001b[0;31m---------------------------------------------------------------------------\u001b[0m",
      "\u001b[0;31mFileNotFoundError\u001b[0m                         Traceback (most recent call last)",
      "\u001b[0;32m<ipython-input-3-c0d129b0ac2e>\u001b[0m in \u001b[0;36m<module>\u001b[0;34m\u001b[0m\n\u001b[0;32m----> 1\u001b[0;31m \u001b[0mexec\u001b[0m\u001b[0;34m(\u001b[0m\u001b[0mopen\u001b[0m\u001b[0;34m(\u001b[0m\u001b[0mlocal_path\u001b[0m \u001b[0;34m+\u001b[0m \u001b[0;34m\"connectivity/analysis.py\"\u001b[0m\u001b[0;34m)\u001b[0m\u001b[0;34m.\u001b[0m\u001b[0mread\u001b[0m\u001b[0;34m(\u001b[0m\u001b[0;34m)\u001b[0m\u001b[0;34m)\u001b[0m\u001b[0;34m\u001b[0m\u001b[0;34m\u001b[0m\u001b[0m\n\u001b[0m",
      "\u001b[0;32m<string>\u001b[0m in \u001b[0;36m<module>\u001b[0;34m\u001b[0m\n",
      "\u001b[0;32m<string>\u001b[0m in \u001b[0;36m<module>\u001b[0;34m\u001b[0m\n",
      "\u001b[0;32m<string>\u001b[0m in \u001b[0;36mload_json\u001b[0;34m(path)\u001b[0m\n",
      "\u001b[0;31mFileNotFoundError\u001b[0m: [Errno 2] No such file or directory: '/Users/zhengz11/myscripts/git_clone/pn_kc/data/skids/pn'"
     ]
    }
   ],
   "source": [
    "exec(open(local_path + \"connectivity/analysis.py\").read())"
   ]
  },
  {
   "cell_type": "code",
   "execution_count": 74,
   "metadata": {},
   "outputs": [
    {
     "ename": "KeyError",
     "evalue": "'short_glom_name'",
     "output_type": "error",
     "traceback": [
      "\u001b[0;31m---------------------------------------------------------------------------\u001b[0m",
      "\u001b[0;31mKeyError\u001b[0m                                  Traceback (most recent call last)",
      "\u001b[0;32m~/anaconda3/envs/py37/lib/python3.7/site-packages/pandas/core/indexes/base.py\u001b[0m in \u001b[0;36mget_loc\u001b[0;34m(self, key, method, tolerance)\u001b[0m\n\u001b[1;32m   2896\u001b[0m             \u001b[0;32mtry\u001b[0m\u001b[0;34m:\u001b[0m\u001b[0;34m\u001b[0m\u001b[0;34m\u001b[0m\u001b[0m\n\u001b[0;32m-> 2897\u001b[0;31m                 \u001b[0;32mreturn\u001b[0m \u001b[0mself\u001b[0m\u001b[0;34m.\u001b[0m\u001b[0m_engine\u001b[0m\u001b[0;34m.\u001b[0m\u001b[0mget_loc\u001b[0m\u001b[0;34m(\u001b[0m\u001b[0mkey\u001b[0m\u001b[0;34m)\u001b[0m\u001b[0;34m\u001b[0m\u001b[0;34m\u001b[0m\u001b[0m\n\u001b[0m\u001b[1;32m   2898\u001b[0m             \u001b[0;32mexcept\u001b[0m \u001b[0mKeyError\u001b[0m\u001b[0;34m:\u001b[0m\u001b[0;34m\u001b[0m\u001b[0;34m\u001b[0m\u001b[0m\n",
      "\u001b[0;32mpandas/_libs/index.pyx\u001b[0m in \u001b[0;36mpandas._libs.index.IndexEngine.get_loc\u001b[0;34m()\u001b[0m\n",
      "\u001b[0;32mpandas/_libs/index.pyx\u001b[0m in \u001b[0;36mpandas._libs.index.IndexEngine.get_loc\u001b[0;34m()\u001b[0m\n",
      "\u001b[0;32mpandas/_libs/hashtable_class_helper.pxi\u001b[0m in \u001b[0;36mpandas._libs.hashtable.PyObjectHashTable.get_item\u001b[0;34m()\u001b[0m\n",
      "\u001b[0;32mpandas/_libs/hashtable_class_helper.pxi\u001b[0m in \u001b[0;36mpandas._libs.hashtable.PyObjectHashTable.get_item\u001b[0;34m()\u001b[0m\n",
      "\u001b[0;31mKeyError\u001b[0m: 'short_glom_name'",
      "\nDuring handling of the above exception, another exception occurred:\n",
      "\u001b[0;31mKeyError\u001b[0m                                  Traceback (most recent call last)",
      "\u001b[0;32m<ipython-input-74-2b29dc926766>\u001b[0m in \u001b[0;36m<module>\u001b[0;34m\u001b[0m\n\u001b[1;32m     33\u001b[0m \u001b[0;31m# run and get tbl in 191029-bouton-KC-representations_per_PN.py\u001b[0m\u001b[0;34m\u001b[0m\u001b[0;34m\u001b[0m\u001b[0;34m\u001b[0m\u001b[0m\n\u001b[1;32m     34\u001b[0m \u001b[0mcol_list\u001b[0m \u001b[0;34m=\u001b[0m \u001b[0mt1\u001b[0m\u001b[0;34m.\u001b[0m\u001b[0mcol_ids\u001b[0m\u001b[0;34m\u001b[0m\u001b[0;34m\u001b[0m\u001b[0m\n\u001b[0;32m---> 35\u001b[0;31m \u001b[0mcol_colors\u001b[0m \u001b[0;34m=\u001b[0m \u001b[0mdf_lookup\u001b[0m\u001b[0;34m(\u001b[0m\u001b[0;34m'short_glom_name'\u001b[0m\u001b[0;34m,\u001b[0m \u001b[0mgloms\u001b[0m\u001b[0;34m,\u001b[0m \u001b[0;34m'color'\u001b[0m\u001b[0;34m,\u001b[0m \u001b[0mtbl\u001b[0m\u001b[0;34m)\u001b[0m\u001b[0;34m\u001b[0m\u001b[0;34m\u001b[0m\u001b[0m\n\u001b[0m\u001b[1;32m     36\u001b[0m \u001b[0;34m\u001b[0m\u001b[0m\n\u001b[1;32m     37\u001b[0m \u001b[0;32mfor\u001b[0m \u001b[0mx\u001b[0m \u001b[0;32min\u001b[0m \u001b[0;34m[\u001b[0m\u001b[0max1\u001b[0m\u001b[0;34m.\u001b[0m\u001b[0mget_xticklabels\u001b[0m\u001b[0;34m(\u001b[0m\u001b[0;34m)\u001b[0m\u001b[0;34m,\u001b[0m \u001b[0max1\u001b[0m\u001b[0;34m.\u001b[0m\u001b[0mget_yticklabels\u001b[0m\u001b[0;34m(\u001b[0m\u001b[0;34m)\u001b[0m\u001b[0;34m]\u001b[0m\u001b[0;34m:\u001b[0m\u001b[0;34m\u001b[0m\u001b[0;34m\u001b[0m\u001b[0m\n",
      "\u001b[0;32m~/myscripts/git_clone/pn_kc/pn_kc/mushroom_2to3/detect_community.py\u001b[0m in \u001b[0;36mdf_lookup\u001b[0;34m(ref_col, ref_vals, target_col, df)\u001b[0m\n\u001b[1;32m    201\u001b[0m     \u001b[0;31m# df[df['glom_class'].values == 'VM7v']['glom_number']\u001b[0m\u001b[0;34m\u001b[0m\u001b[0;34m\u001b[0m\u001b[0;34m\u001b[0m\u001b[0m\n\u001b[1;32m    202\u001b[0m     \u001b[0;31m# return the target_vals in a list\u001b[0m\u001b[0;34m\u001b[0m\u001b[0;34m\u001b[0m\u001b[0;34m\u001b[0m\u001b[0m\n\u001b[0;32m--> 203\u001b[0;31m     \u001b[0;32mreturn\u001b[0m \u001b[0;34m[\u001b[0m\u001b[0mdf\u001b[0m\u001b[0;34m[\u001b[0m\u001b[0mdf\u001b[0m\u001b[0;34m[\u001b[0m\u001b[0mref_col\u001b[0m\u001b[0;34m]\u001b[0m\u001b[0;34m.\u001b[0m\u001b[0mvalues\u001b[0m \u001b[0;34m==\u001b[0m \u001b[0mi\u001b[0m\u001b[0;34m]\u001b[0m\u001b[0;34m[\u001b[0m\u001b[0mtarget_col\u001b[0m\u001b[0;34m]\u001b[0m\u001b[0;34m.\u001b[0m\u001b[0mtolist\u001b[0m\u001b[0;34m(\u001b[0m\u001b[0;34m)\u001b[0m\u001b[0;34m[\u001b[0m\u001b[0;36m0\u001b[0m\u001b[0;34m]\u001b[0m \u001b[0;32mfor\u001b[0m \u001b[0mi\u001b[0m \u001b[0;32min\u001b[0m \u001b[0mref_vals\u001b[0m\u001b[0;34m]\u001b[0m\u001b[0;34m\u001b[0m\u001b[0;34m\u001b[0m\u001b[0m\n\u001b[0m\u001b[1;32m    204\u001b[0m \u001b[0;34m\u001b[0m\u001b[0m\n\u001b[1;32m    205\u001b[0m \u001b[0;32mdef\u001b[0m \u001b[0mget_conditional_matrix\u001b[0m\u001b[0;34m(\u001b[0m\u001b[0mconn\u001b[0m\u001b[0;34m,\u001b[0m \u001b[0mprob\u001b[0m\u001b[0;34m,\u001b[0m \u001b[0midx\u001b[0m\u001b[0;34m)\u001b[0m\u001b[0;34m:\u001b[0m\u001b[0;34m\u001b[0m\u001b[0;34m\u001b[0m\u001b[0m\n",
      "\u001b[0;32m~/myscripts/git_clone/pn_kc/pn_kc/mushroom_2to3/detect_community.py\u001b[0m in \u001b[0;36m<listcomp>\u001b[0;34m(.0)\u001b[0m\n\u001b[1;32m    201\u001b[0m     \u001b[0;31m# df[df['glom_class'].values == 'VM7v']['glom_number']\u001b[0m\u001b[0;34m\u001b[0m\u001b[0;34m\u001b[0m\u001b[0;34m\u001b[0m\u001b[0m\n\u001b[1;32m    202\u001b[0m     \u001b[0;31m# return the target_vals in a list\u001b[0m\u001b[0;34m\u001b[0m\u001b[0;34m\u001b[0m\u001b[0;34m\u001b[0m\u001b[0m\n\u001b[0;32m--> 203\u001b[0;31m     \u001b[0;32mreturn\u001b[0m \u001b[0;34m[\u001b[0m\u001b[0mdf\u001b[0m\u001b[0;34m[\u001b[0m\u001b[0mdf\u001b[0m\u001b[0;34m[\u001b[0m\u001b[0mref_col\u001b[0m\u001b[0;34m]\u001b[0m\u001b[0;34m.\u001b[0m\u001b[0mvalues\u001b[0m \u001b[0;34m==\u001b[0m \u001b[0mi\u001b[0m\u001b[0;34m]\u001b[0m\u001b[0;34m[\u001b[0m\u001b[0mtarget_col\u001b[0m\u001b[0;34m]\u001b[0m\u001b[0;34m.\u001b[0m\u001b[0mtolist\u001b[0m\u001b[0;34m(\u001b[0m\u001b[0;34m)\u001b[0m\u001b[0;34m[\u001b[0m\u001b[0;36m0\u001b[0m\u001b[0;34m]\u001b[0m \u001b[0;32mfor\u001b[0m \u001b[0mi\u001b[0m \u001b[0;32min\u001b[0m \u001b[0mref_vals\u001b[0m\u001b[0;34m]\u001b[0m\u001b[0;34m\u001b[0m\u001b[0;34m\u001b[0m\u001b[0m\n\u001b[0m\u001b[1;32m    204\u001b[0m \u001b[0;34m\u001b[0m\u001b[0m\n\u001b[1;32m    205\u001b[0m \u001b[0;32mdef\u001b[0m \u001b[0mget_conditional_matrix\u001b[0m\u001b[0;34m(\u001b[0m\u001b[0mconn\u001b[0m\u001b[0;34m,\u001b[0m \u001b[0mprob\u001b[0m\u001b[0;34m,\u001b[0m \u001b[0midx\u001b[0m\u001b[0;34m)\u001b[0m\u001b[0;34m:\u001b[0m\u001b[0;34m\u001b[0m\u001b[0;34m\u001b[0m\u001b[0m\n",
      "\u001b[0;32m~/anaconda3/envs/py37/lib/python3.7/site-packages/pandas/core/frame.py\u001b[0m in \u001b[0;36m__getitem__\u001b[0;34m(self, key)\u001b[0m\n\u001b[1;32m   2993\u001b[0m             \u001b[0;32mif\u001b[0m \u001b[0mself\u001b[0m\u001b[0;34m.\u001b[0m\u001b[0mcolumns\u001b[0m\u001b[0;34m.\u001b[0m\u001b[0mnlevels\u001b[0m \u001b[0;34m>\u001b[0m \u001b[0;36m1\u001b[0m\u001b[0;34m:\u001b[0m\u001b[0;34m\u001b[0m\u001b[0;34m\u001b[0m\u001b[0m\n\u001b[1;32m   2994\u001b[0m                 \u001b[0;32mreturn\u001b[0m \u001b[0mself\u001b[0m\u001b[0;34m.\u001b[0m\u001b[0m_getitem_multilevel\u001b[0m\u001b[0;34m(\u001b[0m\u001b[0mkey\u001b[0m\u001b[0;34m)\u001b[0m\u001b[0;34m\u001b[0m\u001b[0;34m\u001b[0m\u001b[0m\n\u001b[0;32m-> 2995\u001b[0;31m             \u001b[0mindexer\u001b[0m \u001b[0;34m=\u001b[0m \u001b[0mself\u001b[0m\u001b[0;34m.\u001b[0m\u001b[0mcolumns\u001b[0m\u001b[0;34m.\u001b[0m\u001b[0mget_loc\u001b[0m\u001b[0;34m(\u001b[0m\u001b[0mkey\u001b[0m\u001b[0;34m)\u001b[0m\u001b[0;34m\u001b[0m\u001b[0;34m\u001b[0m\u001b[0m\n\u001b[0m\u001b[1;32m   2996\u001b[0m             \u001b[0;32mif\u001b[0m \u001b[0mis_integer\u001b[0m\u001b[0;34m(\u001b[0m\u001b[0mindexer\u001b[0m\u001b[0;34m)\u001b[0m\u001b[0;34m:\u001b[0m\u001b[0;34m\u001b[0m\u001b[0;34m\u001b[0m\u001b[0m\n\u001b[1;32m   2997\u001b[0m                 \u001b[0mindexer\u001b[0m \u001b[0;34m=\u001b[0m \u001b[0;34m[\u001b[0m\u001b[0mindexer\u001b[0m\u001b[0;34m]\u001b[0m\u001b[0;34m\u001b[0m\u001b[0;34m\u001b[0m\u001b[0m\n",
      "\u001b[0;32m~/anaconda3/envs/py37/lib/python3.7/site-packages/pandas/core/indexes/base.py\u001b[0m in \u001b[0;36mget_loc\u001b[0;34m(self, key, method, tolerance)\u001b[0m\n\u001b[1;32m   2897\u001b[0m                 \u001b[0;32mreturn\u001b[0m \u001b[0mself\u001b[0m\u001b[0;34m.\u001b[0m\u001b[0m_engine\u001b[0m\u001b[0;34m.\u001b[0m\u001b[0mget_loc\u001b[0m\u001b[0;34m(\u001b[0m\u001b[0mkey\u001b[0m\u001b[0;34m)\u001b[0m\u001b[0;34m\u001b[0m\u001b[0;34m\u001b[0m\u001b[0m\n\u001b[1;32m   2898\u001b[0m             \u001b[0;32mexcept\u001b[0m \u001b[0mKeyError\u001b[0m\u001b[0;34m:\u001b[0m\u001b[0;34m\u001b[0m\u001b[0;34m\u001b[0m\u001b[0m\n\u001b[0;32m-> 2899\u001b[0;31m                 \u001b[0;32mreturn\u001b[0m \u001b[0mself\u001b[0m\u001b[0;34m.\u001b[0m\u001b[0m_engine\u001b[0m\u001b[0;34m.\u001b[0m\u001b[0mget_loc\u001b[0m\u001b[0;34m(\u001b[0m\u001b[0mself\u001b[0m\u001b[0;34m.\u001b[0m\u001b[0m_maybe_cast_indexer\u001b[0m\u001b[0;34m(\u001b[0m\u001b[0mkey\u001b[0m\u001b[0;34m)\u001b[0m\u001b[0;34m)\u001b[0m\u001b[0;34m\u001b[0m\u001b[0;34m\u001b[0m\u001b[0m\n\u001b[0m\u001b[1;32m   2900\u001b[0m         \u001b[0mindexer\u001b[0m \u001b[0;34m=\u001b[0m \u001b[0mself\u001b[0m\u001b[0;34m.\u001b[0m\u001b[0mget_indexer\u001b[0m\u001b[0;34m(\u001b[0m\u001b[0;34m[\u001b[0m\u001b[0mkey\u001b[0m\u001b[0;34m]\u001b[0m\u001b[0;34m,\u001b[0m \u001b[0mmethod\u001b[0m\u001b[0;34m=\u001b[0m\u001b[0mmethod\u001b[0m\u001b[0;34m,\u001b[0m \u001b[0mtolerance\u001b[0m\u001b[0;34m=\u001b[0m\u001b[0mtolerance\u001b[0m\u001b[0;34m)\u001b[0m\u001b[0;34m\u001b[0m\u001b[0;34m\u001b[0m\u001b[0m\n\u001b[1;32m   2901\u001b[0m         \u001b[0;32mif\u001b[0m \u001b[0mindexer\u001b[0m\u001b[0;34m.\u001b[0m\u001b[0mndim\u001b[0m \u001b[0;34m>\u001b[0m \u001b[0;36m1\u001b[0m \u001b[0;32mor\u001b[0m \u001b[0mindexer\u001b[0m\u001b[0;34m.\u001b[0m\u001b[0msize\u001b[0m \u001b[0;34m>\u001b[0m \u001b[0;36m1\u001b[0m\u001b[0;34m:\u001b[0m\u001b[0;34m\u001b[0m\u001b[0;34m\u001b[0m\u001b[0m\n",
      "\u001b[0;32mpandas/_libs/index.pyx\u001b[0m in \u001b[0;36mpandas._libs.index.IndexEngine.get_loc\u001b[0;34m()\u001b[0m\n",
      "\u001b[0;32mpandas/_libs/index.pyx\u001b[0m in \u001b[0;36mpandas._libs.index.IndexEngine.get_loc\u001b[0;34m()\u001b[0m\n",
      "\u001b[0;32mpandas/_libs/hashtable_class_helper.pxi\u001b[0m in \u001b[0;36mpandas._libs.hashtable.PyObjectHashTable.get_item\u001b[0;34m()\u001b[0m\n",
      "\u001b[0;32mpandas/_libs/hashtable_class_helper.pxi\u001b[0m in \u001b[0;36mpandas._libs.hashtable.PyObjectHashTable.get_item\u001b[0;34m()\u001b[0m\n",
      "\u001b[0;31mKeyError\u001b[0m: 'short_glom_name'"
     ]
    },
    {
     "data": {
      "image/png": "[encoded data removed]",
      "text/plain": [
       "<Figure size 432x288 with 2 Axes>"
      ]
     },
     "metadata": {
      "needs_background": "light"
     },
     "output_type": "display_data"
    }
   ],
   "source": [
    "ana = ana_all_rd\n",
    "\n",
    "conn_data = ana.conn_data['glom_kc_in_claw_unit']\n",
    "ob_conn, glom_prob, glom_idx_ids = get_conn_prob_idx(conn_data)\n",
    "\n",
    "num_exp = 1000\n",
    "\n",
    "stat = [get_raw_inputs(shuffle_glom_kc_w_prob(ob_conn, glom_prob)) for i in range(num_exp)]\n",
    "stat = np.array(stat)\n",
    "sd = np.nanstd(stat, axis=0)\n",
    "avg = np.nanmean(stat, axis=0)\n",
    "\n",
    "ob_ci = get_raw_inputs(ob_conn)\n",
    "comm_zscore = np.divide(np.subtract(ob_ci, avg), sd)\n",
    "\n",
    "cm_zs = PairMatrix('', comm_zscore, glom_idx_ids)\n",
    "\n",
    "# reorder_idx = km_cluster(cm_zs.conn)\n",
    "\n",
    "# this is the order used in final figures 'ClusterOrder0707'\n",
    "reorder_idx = reorder(ClusterOrder0707, glom_idx_ids)\n",
    "t1_zs = cm_zs.reorder(reorder_idx, return_new=True)\n",
    "\n",
    "# plotting z score matrix\n",
    "fig, ax1 = plt.subplots()\n",
    "t1 = t1_zs;\n",
    "gloms = df_lookup('glom_id',t1.col_ids,'short_glom_name',glom_btn_table)\n",
    "sns.heatmap(t1.conn, xticklabels=gloms, yticklabels=gloms, ax=ax1, vmin=-8.53, vmax=8.53, cmap=\"RdBu_r\")\n",
    "\n",
    "ax1.tick_params(bottom=False,labeltop=True, top=True, labelbottom=False)\n",
    "ax1.tick_params(axis='x',labelrotation=90)\n",
    "\n",
    "# run and get tbl in 191029-bouton-KC-representations_per_PN.py\n",
    "col_list = t1.col_ids\n",
    "col_colors = df_lookup('short_glom_name', gloms, 'color', tbl)\n",
    "\n",
    "for x in [ax1.get_xticklabels(), ax1.get_yticklabels()]:\n",
    "    for idx, tick in enumerate(x):\n",
    "        tick.set_color(col_colors[idx])\n",
    "        if col_list[idx] in comm_ids:\n",
    "            tick.set_weight(\"extra bold\")\n",
    "#            tick.set_bbox(dict(ec='green', fc=None, alpha=0.05))\n",
    "\n",
    "ax1.set_aspect(\"equal\")\n",
    "fig.set_size_inches(16,12)\n",
    "plt.show()"
   ]
  },
  {
   "cell_type": "code",
   "execution_count": null,
   "metadata": {},
   "outputs": [],
   "source": []
  },
  {
   "cell_type": "code",
   "execution_count": 4,
   "metadata": {},
   "outputs": [],
   "source": [
    "ana = ana_all_rd\n",
    "\n",
    "da2_id = df_lookup('short_glom_name', ['DA2'], 'glom_anno_id', glom_btn_table)\n",
    "da2_pns = ana.pn_mapping.types_to_skids(da2_id)\n",
    "\n",
    "\n",
    "va2_id = df_lookup('short_glom_name', ['VA2'], 'glom_anno_id', glom_btn_table)\n",
    "va2_pns = ana.pn_mapping.types_to_skids(va2_id)\n",
    "\n",
    "da2_col_idx = [ana.conn_data['pn_kc'].col_ids.index(i) for i in da2_pns]\n",
    "\n",
    "kc_ids = ana.conn_data['pn_kc'].row_ids\n",
    "da2_conn = ana.conn_data['pn_kc'].conn['1s'][:,da2_col_idx].copy()\n",
    "\n",
    "save_path = \"/Users/zhengz11/myscripts/data_results/200420-Compare_FlywireFAFBHemibrain/\"\n",
    "pd.DataFrame(da2_conn, index=kc_ids, columns=da2_pns).to_csv(save_path + \"200420-fafb_all_da2.csv\")\n",
    "\n",
    "va2_col_idx = [ana.conn_data['pn_kc'].col_ids.index(i) for i in va2_pns]\n",
    "va2_conn = ana.conn_data['pn_kc'].conn['1s'][:,va2_col_idx].copy()\n",
    "pd.DataFrame(va2_conn,index=kc_ids, columns=va2_pns).to_csv(save_path + \"200420-fafb_all_va2.csv\")"
   ]
  },
  {
   "cell_type": "code",
   "execution_count": 22,
   "metadata": {},
   "outputs": [],
   "source": [
    "fafb_da2 = pd.read_csv(save_path + \"200420-fafb_all_da2.csv\", index_col=0)\n",
    "hemi_da2 = pd.read_csv(save_path + \"200420-hemibrain_da2.csv\", index_col=0)\n",
    "flywire_da2 = pd.read_csv(save_path + \"200420-da2_conn.csv\", index_col=0)"
   ]
  },
  {
   "cell_type": "code",
   "execution_count": 31,
   "metadata": {},
   "outputs": [
    {
     "data": {
      "text/plain": [
       "0.05457227138643068"
      ]
     },
     "execution_count": 31,
     "metadata": {},
     "output_type": "execute_result"
    }
   ],
   "source": [
    "fb_da2 = np.array(fafb_da2)\n",
    "fb_da2[fb_da2 < 3] = 0\n",
    "np.count_nonzero(np.sum(fb_da2,1))/fb_da2.shape[0]\n"
   ]
  },
  {
   "cell_type": "code",
   "execution_count": 46,
   "metadata": {},
   "outputs": [],
   "source": [
    "fafb_da2 = pd.read_csv(save_path + \"200420-fafb_all_da2.csv\", index_col=0)\n",
    "hemi_da2 = pd.read_csv(save_path + \"200420-hemibrain_da2.csv\", index_col=0)\n",
    "flywire_da2 = pd.read_csv(save_path + \"200420-da2_conn.csv\", index_col=0)\n",
    "\n",
    "hm_da2 = np.array(hemi_da2)\n",
    "hm_da2[hm_da2 < 3] = 0\n",
    "hm_da2_p = np.count_nonzero(np.sum(hm_da2,1))/hm_da2.shape[0]\n",
    "\n",
    "fb_da2 = np.array(fafb_da2)\n",
    "fb_da2[fb_da2 < 3] = 0\n",
    "fb_da2_p = np.count_nonzero(np.sum(fb_da2,1))/fb_da2.shape[0]\n",
    "\n",
    "fw_da2 = np.array(flywire_da2)\n",
    "# fw_da2[fw_da2 < 3] = 0\n",
    "fw_da2_p = np.count_nonzero(np.sum(fw_da2,1))/hemi_da2.shape[0]\n",
    "\n",
    "da2_tbl = pd.DataFrame({'group':['Hemibrain', 'FAFB_right', 'FlyWire_left'],\n",
    " 'perc':[hm_da2_p, fb_da2_p, fw_da2_p]}).assign(PN_type='DA2')\n",
    "\n",
    "\n",
    "\n",
    "# VA2\n",
    "fafb_va2 = pd.read_csv(save_path + \"200420-fafb_all_va2.csv\", index_col=0)\n",
    "hemi_va2 = pd.read_csv(save_path + \"200420-hemibrain_va2.csv\", index_col=0)\n",
    "flywire_va2 = pd.read_csv(save_path + \"200420-va2_conn.csv\", index_col=0)\n",
    "\n",
    "fb_va2 = np.array(fafb_va2)\n",
    "fb_va2[fb_va2 < 3] = 0\n",
    "fb_va2_p = np.count_nonzero(fb_va2)/fb_va2.shape[0]\n",
    "\n",
    "fw_va2 = np.array(flywire_va2)\n",
    "# fw_va2[fw_va2 < 3] = 0\n",
    "fw_va2_p = np.count_nonzero(fw_va2)/hemi_va2.shape[0]\n",
    "\n",
    "hm_va2 = np.array(hemi_va2)\n",
    "hm_va2[hm_va2 < 3] = 0\n",
    "hm_va2_p = np.count_nonzero(hm_va2)/hm_va2.shape[0]\n",
    "\n",
    "va2_tbl = pd.DataFrame({'group':['Hemibrain', 'FAFB_right', 'FlyWire_left'], 'perc':[hm_va2_p, fb_va2_p, fw_va2_p]}).assign(PN_type='VA2')\n",
    "\n",
    "tbl = pd.concat([da2_tbl, va2_tbl], axis=0)"
   ]
  },
  {
   "cell_type": "code",
   "execution_count": 49,
   "metadata": {},
   "outputs": [],
   "source": [
    "tbl = pd.concat([da2_tbl, va2_tbl], axis=0)"
   ]
  },
  {
   "cell_type": "code",
   "execution_count": 30,
   "metadata": {},
   "outputs": [
    {
     "data": {
      "text/plain": [
       "0.06738809640924742"
      ]
     },
     "execution_count": 30,
     "metadata": {},
     "output_type": "execute_result"
    }
   ],
   "source": [
    "hm_da2 = np.array(hemi_da2)\n",
    "hm_da2[hm_da2 < 3] = 0\n",
    "np.count_nonzero(np.sum(hm_da2,1))/hm_da2.shape[0]"
   ]
  },
  {
   "cell_type": "code",
   "execution_count": 48,
   "metadata": {},
   "outputs": [
    {
     "data": {
      "text/html": [
       "<div>\n",
       "<style scoped>\n",
       "    .dataframe tbody tr th:only-of-type {\n",
       "        vertical-align: middle;\n",
       "    }\n",
       "\n",
       "    .dataframe tbody tr th {\n",
       "        vertical-align: top;\n",
       "    }\n",
       "\n",
       "    .dataframe thead th {\n",
       "        text-align: right;\n",
       "    }\n",
       "</style>\n",
       "<table border=\"1\" class=\"dataframe\">\n",
       "  <thead>\n",
       "    <tr style=\"text-align: right;\">\n",
       "      <th></th>\n",
       "      <th>group</th>\n",
       "      <th>perc</th>\n",
       "      <th>PN_type</th>\n",
       "      <th>group</th>\n",
       "      <th>perc</th>\n",
       "      <th>PN_type</th>\n",
       "    </tr>\n",
       "  </thead>\n",
       "  <tbody>\n",
       "    <tr>\n",
       "      <th>0</th>\n",
       "      <td>Hemibrain</td>\n",
       "      <td>0.067388</td>\n",
       "      <td>DA2</td>\n",
       "      <td>Hemibrain</td>\n",
       "      <td>0.140187</td>\n",
       "      <td>VA2</td>\n",
       "    </tr>\n",
       "    <tr>\n",
       "      <th>1</th>\n",
       "      <td>FAFB_right</td>\n",
       "      <td>0.054572</td>\n",
       "      <td>DA2</td>\n",
       "      <td>FAFB_right</td>\n",
       "      <td>0.123156</td>\n",
       "      <td>VA2</td>\n",
       "    </tr>\n",
       "    <tr>\n",
       "      <th>2</th>\n",
       "      <td>FlyWire_left</td>\n",
       "      <td>0.063453</td>\n",
       "      <td>DA2</td>\n",
       "      <td>FlyWire_left</td>\n",
       "      <td>0.146090</td>\n",
       "      <td>VA2</td>\n",
       "    </tr>\n",
       "  </tbody>\n",
       "</table>\n",
       "</div>"
      ],
      "text/plain": [
       "          group      perc PN_type         group      perc PN_type\n",
       "0     Hemibrain  0.067388     DA2     Hemibrain  0.140187     VA2\n",
       "1    FAFB_right  0.054572     DA2    FAFB_right  0.123156     VA2\n",
       "2  FlyWire_left  0.063453     DA2  FlyWire_left  0.146090     VA2"
      ]
     },
     "execution_count": 48,
     "metadata": {},
     "output_type": "execute_result"
    }
   ],
   "source": [
    "tbl"
   ]
  },
  {
   "cell_type": "code",
   "execution_count": 55,
   "metadata": {},
   "outputs": [],
   "source": [
    "fafb_da2 = pd.read_csv(save_path + \"200420-fafb_all_da2.csv\", index_col=0)\n",
    "hemi_da2 = pd.read_csv(save_path + \"200420-hemibrain_da2.csv\", index_col=0)\n",
    "flywire_da2 = pd.read_csv(save_path + \"200420-da2_conn.csv\", index_col=0)\n",
    "\n",
    "hm_da2 = np.array(hemi_da2)\n",
    "hm_da2[hm_da2 < 3] = 0\n",
    "hm_da2_p = np.count_nonzero(np.sum(hm_da2,1))/hm_da2.shape[0]\n",
    "\n",
    "fb_da2 = np.array(fafb_da2)\n",
    "fb_da2[fb_da2 < 3] = 0\n",
    "fb_da2_p = np.count_nonzero(np.sum(fb_da2,1))/fb_da2.shape[0]\n",
    "\n",
    "fw_da2 = np.array(flywire_da2)\n",
    "# fw_da2[fw_da2 < 3] = 0\n",
    "fw_da2_p = np.count_nonzero(np.sum(fw_da2,1))/hemi_da2.shape[0]\n",
    "\n",
    "da2_tbl = pd.DataFrame({'group':['Hemibrain', 'FAFB_right', 'FlyWire_left'],\n",
    "'n_kcs':[np.count_nonzero(np.sum(hm_da2,1)), np.count_nonzero(np.sum(fb_da2,1)),\n",
    "np.count_nonzero(np.sum(fw_da2,1))],\n",
    "'total_kcs': [hm_da2.shape[0], fb_da2.shape[0], hemi_da2.shape[0]],\n",
    " 'perc':[hm_da2_p, fb_da2_p, fw_da2_p]}).assign(PN_type='DA2')\n",
    "\n",
    "\n",
    "\n",
    "# VA2\n",
    "fafb_va2 = pd.read_csv(save_path + \"200420-fafb_all_va2.csv\", index_col=0)\n",
    "hemi_va2 = pd.read_csv(save_path + \"200420-hemibrain_va2.csv\", index_col=0)\n",
    "flywire_va2 = pd.read_csv(save_path + \"200420-va2_conn.csv\", index_col=0)\n",
    "\n",
    "fb_va2 = np.array(fafb_va2)\n",
    "fb_va2[fb_va2 < 3] = 0\n",
    "fb_va2_p = np.count_nonzero(fb_va2)/fb_va2.shape[0]\n",
    "\n",
    "fw_va2 = np.array(flywire_va2)\n",
    "# fw_va2[fw_va2 < 3] = 0\n",
    "fw_va2_p = np.count_nonzero(fw_va2)/hemi_va2.shape[0]\n",
    "\n",
    "hm_va2 = np.array(hemi_va2)\n",
    "hm_va2[hm_va2 < 3] = 0\n",
    "hm_va2_p = np.count_nonzero(hm_va2)/hm_va2.shape[0]\n",
    "\n",
    "va2_tbl = pd.DataFrame({'group':['Hemibrain', 'FAFB_right', 'FlyWire_left'],\n",
    "'n_kcs':[np.count_nonzero(np.sum(hm_va2,1)), np.count_nonzero(np.sum(fb_va2,1)),\n",
    "np.count_nonzero(np.sum(fw_va2,1))],\n",
    "'total_kcs': [hm_va2.shape[0], fb_va2.shape[0], hemi_va2.shape[0]],\n",
    " 'perc':[hm_va2_p, fb_va2_p, fw_va2_p]}).assign(PN_type='VA2')\n",
    "\n",
    "tbl = pd.concat([da2_tbl, va2_tbl], axis=0)\n",
    "\n"
   ]
  },
  {
   "cell_type": "code",
   "execution_count": 62,
   "metadata": {},
   "outputs": [
    {
     "data": {
      "image/png": "[encoded data removed]",
      "text/plain": [
       "<Figure size 648x432 with 1 Axes>"
      ]
     },
     "metadata": {
      "needs_background": "light"
     },
     "output_type": "display_data"
    }
   ],
   "source": [
    "fig, ax = plt.subplots()\n",
    "sns.barplot(x=\"PN_type\", y=\"perc\", hue=\"group\", data=tbl, palette=sns.color_palette(\"Set2\"), ax=ax)\n",
    "handles, labels = ax.get_legend_handles_labels()\n",
    "ax.legend(handles=handles, labels=labels)\n",
    "ax.set_ylabel('% of total KCs')\n",
    "fig.set_size_inches([9,6])\n",
    "fig.savefig(save_path + \"200421-HemiFAFBFlywire_DA2_VA2.png\",bbox_inches='tight')"
   ]
  },
  {
   "cell_type": "code",
   "execution_count": 64,
   "metadata": {},
   "outputs": [],
   "source": [
    "tbl.to_excel(save_path + '200421-HemiFAFBFlywire_DA2_VA2.xlsx')"
   ]
  },
  {
   "cell_type": "code",
   "execution_count": 36,
   "metadata": {},
   "outputs": [
    {
     "data": {
      "text/plain": [
       "0.14608952287260207"
      ]
     },
     "execution_count": 36,
     "metadata": {},
     "output_type": "execute_result"
    }
   ],
   "source": [
    "fw_va2 = np.array(flywire_va2)\n",
    "# fw_va2[fw_va2 < 3] = 0\n",
    "np.count_nonzero(fw_va2)/hemi_va2.shape[0]"
   ]
  },
  {
   "cell_type": "code",
   "execution_count": 37,
   "metadata": {},
   "outputs": [
    {
     "data": {
      "text/plain": [
       "0.14018691588785046"
      ]
     },
     "execution_count": 37,
     "metadata": {},
     "output_type": "execute_result"
    }
   ],
   "source": [
    "hm_va2 = np.array(hemi_va2)\n",
    "hm_va2[hm_va2 < 3] = 0\n",
    "np.count_nonzero(hm_va2)/hm_va2.shape[0]"
   ]
  },
  {
   "cell_type": "code",
   "execution_count": 4,
   "metadata": {},
   "outputs": [
    {
     "ename": "ModuleNotFoundError",
     "evalue": "No module named 'process_caron_data_v2'",
     "output_type": "error",
     "traceback": [
      "\u001b[0;31m---------------------------------------------------------------------------\u001b[0m",
      "\u001b[0;31mModuleNotFoundError\u001b[0m                       Traceback (most recent call last)",
      "\u001b[0;32m<ipython-input-4-d548c212c27f>\u001b[0m in \u001b[0;36m<module>\u001b[0;34m\u001b[0m\n\u001b[0;32m----> 1\u001b[0;31m \u001b[0;32mfrom\u001b[0m \u001b[0mprocess_caron_data_v2\u001b[0m \u001b[0;32mimport\u001b[0m \u001b[0;34m*\u001b[0m\u001b[0;34m\u001b[0m\u001b[0;34m\u001b[0m\u001b[0m\n\u001b[0m",
      "\u001b[0;31mModuleNotFoundError\u001b[0m: No module named 'process_caron_data_v2'"
     ]
    }
   ],
   "source": [
    "from process_caron_data_v2 import *"
   ]
  },
  {
   "cell_type": "code",
   "execution_count": 5,
   "metadata": {},
   "outputs": [],
   "source": [
    "exec(open(local_path + \"/connectivity/process_caron_data_v2.py\").read())"
   ]
  },
  {
   "cell_type": "code",
   "execution_count": 12,
   "metadata": {},
   "outputs": [],
   "source": [
    "num_exp = 1000\n",
    "\n",
    "# make all gloms use this universal ids\n",
    "# glom_id_table = pd.read_excel( \"/Users/zhengz11/myscripts/data_results/171012-1D_olfactory_space/171012-glom_index_list.xlsx\")\n",
    "glom_id_table = pd.read_excel(\n",
    "    local_path + \"data/171012-glom_index_list.xlsx\")\n",
    "\n",
    "def get_zscores(conn, prob, num_exp=1000):\n",
    "    stat = [get_raw_inputs(shuffle_glom_kc_w_prob(conn, prob)) for i in range(num_exp)]\n",
    "    stat = np.array(stat)\n",
    "    sd = np.nanstd(stat, axis=0)\n",
    "    avg = np.nanmean(stat, axis=0)\n",
    "    ob_ci = get_raw_inputs(conn)\n",
    "    comm_zscore = np.divide(np.subtract(ob_ci, avg), sd)\n",
    "    return comm_zscore\n",
    "\n",
    "tbl_wc = tbl.copy()\n",
    "ana_ca = CaronAnalysis.init_processing()\n",
    "caron_obj = ana_ca.conn_data['caron_glom_kc']\n",
    "ca_conn = caron_obj.conn['1s'].copy()\n",
    "caron_obj.col_ids = df_lookup(\n",
    "    'glom', ana_ca.glom_tbl['glom_class'], 'id', glom_id_table)"
   ]
  },
  {
   "cell_type": "code",
   "execution_count": 13,
   "metadata": {},
   "outputs": [
    {
     "name": "stdout",
     "output_type": "stream",
     "text": [
      "54\n",
      "55\n",
      "45\n",
      "56\n",
      "57\n",
      "58\n"
     ]
    },
    {
     "data": {
      "image/png": "[encoded data removed]",
      "text/plain": [
       "<Figure size 1152x864 with 2 Axes>"
      ]
     },
     "metadata": {
      "needs_background": "light"
     },
     "output_type": "display_data"
    }
   ],
   "source": [
    "glom_list = glom_btn_table['glom_id'].tolist()\n",
    "caron_prob = []\n",
    "no_btn_list = []\n",
    "for i in caron_obj.col_ids:\n",
    "    if i not in glom_list:\n",
    "        print(i)\n",
    "        caron_prob.append(0)\n",
    "        no_btn_list.append(i)\n",
    "    else:\n",
    "        j = df_lookup('glom_id', [i], 'norm_bouton_count', glom_btn_table)\n",
    "        caron_prob.append(j[0])\n",
    "\n",
    "# set the bouton probability of VC3 as the sum of VC3l and VC3m\n",
    "vc3 = glom_btn_table.query(\n",
    "    'short_glom_name==\"VC3m\" or short_glom_name==\"VC3l\"').norm_bouton_count.sum()\n",
    "\n",
    "# must have a simpler way to do this?\n",
    "# get VC3 id, get VC3 index from the id, then get\n",
    "caron_prob[caron_obj.col_ids.index(\n",
    "    glom_id_table.loc[glom_id_table.glom == 'VC3', 'id'].tolist()[0])] = vc3\n",
    "\n",
    "# divide the remaining probability to the zero gloms\n",
    "nnz = np.where(caron_prob)[0]\n",
    "zeros = np.where(np.array(caron_prob)==0)[0]\n",
    "ca_conn = np.concatenate([ca_conn[:,nnz],\n",
    "                            np.sum(ca_conn[:,zeros],1).reshape(ca_conn.shape[0],1)],1)\n",
    "caron_prob = [v for i,v in enumerate(caron_prob) if i in nnz]\n",
    "caron_prob.append(1 - sum(caron_prob))\n",
    "caron_col_ids = caron_obj.col_ids.copy()\n",
    "caron_col_ids = [v for i,v in enumerate(caron_col_ids) if i in nnz]\n",
    "caron_col_ids.append(100)\n",
    "\n",
    "comm_zscore = get_zscores(ca_conn, caron_prob, num_exp=1000)\n",
    "\n",
    "# ca_conn, caron_prob, caron_col_ids\n",
    "# remove the final extra column\n",
    "\n",
    "cm_zs = PairMatrix('', comm_zscore[:-1,:-1].copy(), caron_col_ids[:-1].copy())\n",
    "\n",
    "reorder_idx = km_cluster(cm_zs.conn)\n",
    "t1_zs = cm_zs.reorder(reorder_idx, return_new=True)\n",
    "\n",
    "t1 = t1_zs\n",
    "fig, ax1 = plt.subplots()\n",
    "col_ids = t1.col_ids.copy()\n",
    "t55 = col_ids.index(55)\n",
    "\n",
    "gloms = df_lookup('id', t1.col_ids, 'glom', glom_id_table)\n",
    "sns.heatmap(t1.conn, xticklabels=gloms, yticklabels=gloms, ax=ax1, vmin=-8.53, vmax=8.53, cmap=\"RdBu_r\")\n",
    "\n",
    "ax1.tick_params(bottom=False,labeltop=True, top=True, labelbottom=False)\n",
    "ax1.tick_params(axis='x',labelrotation=90)\n",
    "\n",
    "# run and get tbl in 191029-bouton-KC-representations_per_PN.py\n",
    "col_list = t1.col_ids\n",
    "col_colors = []\n",
    "existing_gloms = pd.unique(tbl.short_glom_name)\n",
    "for glom in gloms:\n",
    "    if glom in existing_gloms:\n",
    "        col_colors.append(df_lookup('short_glom_name', [glom], 'color', tbl)[0])\n",
    "    else:\n",
    "        col_colors.append('black')\n",
    "\n",
    "for x in [ax1.get_xticklabels(), ax1.get_yticklabels()]:\n",
    "    for idx, tick in enumerate(x):\n",
    "        tick.set_color(col_colors[idx])\n",
    "        if col_list[idx] in comm_ids:\n",
    "            tick.set_weight(\"extra bold\")\n",
    "\n",
    "ax1.set_aspect(\"equal\")\n",
    "fig.set_size_inches(16,12)\n",
    "plt.show()"
   ]
  },
  {
   "cell_type": "code",
   "execution_count": 11,
   "metadata": {},
   "outputs": [],
   "source": [
    "import matplotlib.pyplot as plt"
   ]
  },
  {
   "cell_type": "code",
   "execution_count": 14,
   "metadata": {},
   "outputs": [],
   "source": [
    "save_path = \"/Users/zhengz11/myscripts/data_results/191202-redo_caron_comparison/\"\n",
    "\n",
    "glom_seq = pd.read_csv(save_path + '191204-Analyze_caron_conn_BtnNullModel_GlomSeq.csv').glom_seq_names.tolist()"
   ]
  },
  {
   "cell_type": "code",
   "execution_count": 1,
   "metadata": {},
   "outputs": [],
   "source": [
    "import sys\n",
    "import os\n",
    "sys.path.append('/Users/zhengz11/myscripts/git_clone/pn_kc/')\n",
    "\n",
    "import json\n",
    "import mushroom_2to3.connect_path as cp\n",
    "import mushroom_2to3.analysis_routine as ar\n",
    "\n",
    "\n",
    "# credential, to delete when push to remote\n",
    "sys.path.append('/Users/zhengz11/myscripts/mushroom_v9/credential/')\n",
    "from fafb_tokens import token\n",
    "fafb_c = cp.fafb_connection(token)"
   ]
  },
  {
   "cell_type": "code",
   "execution_count": 2,
   "metadata": {},
   "outputs": [
    {
     "data": {
      "text/html": [
       "        <script type=\"text/javascript\">\n",
       "        window.PlotlyConfig = {MathJaxConfig: 'local'};\n",
       "        if (window.MathJax) {MathJax.Hub.Config({SVG: {font: \"STIX-Web\"}});}\n",
       "        if (typeof require !== 'undefined') {\n",
       "        require.undef(\"plotly\");\n",
       "        requirejs.config({\n",
       "            paths: {\n",
       "                'plotly': ['https://cdn.plot.ly/plotly-latest.min']\n",
       "            }\n",
       "        });\n",
       "        require(['plotly'], function(Plotly) {\n",
       "            window._Plotly = Plotly;\n",
       "        });\n",
       "        }\n",
       "        </script>\n",
       "        "
      ]
     },
     "metadata": {},
     "output_type": "display_data"
    },
    {
     "ename": "NameError",
     "evalue": "name 'neurogenesis' is not defined",
     "output_type": "error",
     "traceback": [
      "\u001b[0;31m---------------------------------------------------------------------------\u001b[0m",
      "\u001b[0;31mNameError\u001b[0m                                 Traceback (most recent call last)",
      "\u001b[0;32m<ipython-input-2-e404c066efa2>\u001b[0m in \u001b[0;36m<module>\u001b[0;34m\u001b[0m\n\u001b[1;32m     11\u001b[0m \u001b[0;31m# pn_skids = cc.get_skids_from_annos(fafb_c, [['right_calyx_PN'], ['has_bouton']], [\"multiglomerular PN\"])\u001b[0m\u001b[0;34m\u001b[0m\u001b[0;34m\u001b[0m\u001b[0;34m\u001b[0m\u001b[0m\n\u001b[1;32m     12\u001b[0m \u001b[0;34m\u001b[0m\u001b[0m\n\u001b[0;32m---> 13\u001b[0;31m \u001b[0mpns_ms\u001b[0m \u001b[0;34m=\u001b[0m \u001b[0mneurogenesis\u001b[0m\u001b[0;34m.\u001b[0m\u001b[0minit_from_skid_list\u001b[0m\u001b[0;34m(\u001b[0m\u001b[0mfafb_c\u001b[0m\u001b[0;34m,\u001b[0m \u001b[0mpn_skids\u001b[0m\u001b[0;34m)\u001b[0m\u001b[0;34m\u001b[0m\u001b[0;34m\u001b[0m\u001b[0m\n\u001b[0m",
      "\u001b[0;31mNameError\u001b[0m: name 'neurogenesis' is not defined"
     ]
    }
   ],
   "source": [
    "import pandas as pd\n",
    "import numpy as np\n",
    "from pymaid import rmaid\n",
    "import matplotlib.pylab as pylab\n",
    "import matplotlib.pyplot as plt\n",
    "import pymaid\n",
    "\n",
    "# %run startup_py3.py\n",
    "# %run load_pn_metadata_v1.py\n",
    "\n",
    "# pn_skids = cc.get_skids_from_annos(fafb_c, [['right_calyx_PN'], ['has_bouton']], [\"multiglomerular PN\"])\n",
    "\n"
   ]
  },
  {
   "cell_type": "code",
   "execution_count": 3,
   "metadata": {},
   "outputs": [],
   "source": [
    "import mushroom_2to3.neurogenesis as neurogenesis"
   ]
  },
  {
   "cell_type": "code",
   "execution_count": 9,
   "metadata": {
    "scrolled": true
   },
   "outputs": [
    {
     "name": "stdout",
     "output_type": "stream",
     "text": [
      "downloading skeleton 2863104\n",
      "downloading skeleton 57349\n",
      "downloading skeleton 57353\n",
      "downloading skeleton 11544074\n",
      "downloading skeleton 16\n",
      "downloading skeleton 23569\n",
      "downloading skeleton 57361\n",
      "downloading skeleton 43539\n",
      "downloading skeleton 57365\n",
      "downloading skeleton 11524119\n",
      "downloading skeleton 192547\n",
      "downloading skeleton 57381\n",
      "downloading skeleton 36390\n",
      "downloading skeleton 57385\n",
      "downloading skeleton 23597\n",
      "downloading skeleton 24622\n",
      "downloading skeleton 37935\n",
      "downloading skeleton 400943\n",
      "downloading skeleton 775731\n",
      "downloading skeleton 67637\n",
      "downloading skeleton 11544121\n",
      "downloading skeleton 57402\n",
      "downloading skeleton 22594\n",
      "downloading skeleton 57410\n",
      "downloading skeleton 57414\n",
      "downloading skeleton 30791\n",
      "downloading skeleton 57418\n",
      "downloading skeleton 57422\n",
      "downloading skeleton 68697\n",
      "downloading skeleton 1775706\n",
      "downloading skeleton 23134\n",
      "downloading skeleton 56424\n",
      "downloading skeleton 41578\n",
      "downloading skeleton 27246\n",
      "downloading skeleton 33903\n",
      "downloading skeleton 22132\n",
      "downloading skeleton 35447\n",
      "downloading skeleton 37513\n",
      "downloading skeleton 32399\n",
      "downloading skeleton 24726\n",
      "downloading skeleton 57499\n",
      "downloading skeleton 27295\n",
      "downloading skeleton 771242\n",
      "downloading skeleton 30891\n",
      "downloading skeleton 57003\n",
      "downloading skeleton 57516\n",
      "downloading skeleton 51886\n",
      "downloading skeleton 45242\n",
      "downloading skeleton 24251\n",
      "downloading skeleton 40637\n",
      "downloading skeleton 49865\n",
      "downloading skeleton 1785034\n",
      "downloading skeleton 28876\n",
      "downloading skeleton 186573\n",
      "downloading skeleton 46800\n",
      "downloading skeleton 73937\n",
      "downloading skeleton 22744\n",
      "downloading skeleton 30434\n",
      "downloading skeleton 39139\n",
      "downloading skeleton 65762\n",
      "downloading skeleton 27884\n",
      "downloading skeleton 39668\n",
      "downloading skeleton 39682\n",
      "downloading skeleton 22277\n",
      "downloading skeleton 36108\n",
      "downloading skeleton 23829\n",
      "downloading skeleton 61221\n",
      "downloading skeleton 40749\n",
      "downloading skeleton 55085\n",
      "downloading skeleton 56623\n",
      "downloading skeleton 54072\n",
      "downloading skeleton 45882\n",
      "downloading skeleton 58686\n",
      "downloading skeleton 61773\n",
      "downloading skeleton 755022\n",
      "downloading skeleton 67408\n",
      "downloading skeleton 55125\n",
      "downloading skeleton 39254\n",
      "downloading skeleton 41308\n",
      "downloading skeleton 40306\n",
      "downloading skeleton 22906\n",
      "downloading skeleton 53631\n",
      "downloading skeleton 60799\n",
      "downloading skeleton 37250\n",
      "downloading skeleton 23432\n",
      "downloading skeleton 51080\n",
      "downloading skeleton 52106\n",
      "downloading skeleton 22422\n",
      "downloading skeleton 57241\n",
      "downloading skeleton 46493\n",
      "downloading skeleton 57246\n",
      "downloading skeleton 581536\n",
      "downloading skeleton 53671\n",
      "downloading skeleton 27048\n",
      "downloading skeleton 35246\n",
      "downloading skeleton 42927\n",
      "downloading skeleton 42421\n",
      "downloading skeleton 165303\n",
      "downloading skeleton 65465\n",
      "downloading skeleton 22976\n",
      "downloading skeleton 32214\n",
      "downloading skeleton 23512\n",
      "downloading skeleton 27611\n",
      "downloading skeleton 57307\n",
      "downloading skeleton 57311\n",
      "downloading skeleton 62434\n",
      "downloading skeleton 38885\n",
      "downloading skeleton 57319\n",
      "downloading skeleton 57323\n",
      "downloading skeleton 21999\n",
      "downloading skeleton 57333\n",
      "downloading skeleton 57337\n",
      "downloading skeleton 57341\n"
     ]
    }
   ],
   "source": [
    "pns_ms = neurogenesis.init_from_skid_list(fafb_c, pn_skids)"
   ]
  },
  {
   "cell_type": "code",
   "execution_count": 16,
   "metadata": {},
   "outputs": [],
   "source": [
    "import pickle\n",
    "path = local_path + \"data/pn_bouton_clusters/\"\n",
    "\n",
    "with open(path + \"pns_ms.pkl\", 'wb') as f:\n",
    "    pickle.dump(pns_ms, f, -1)"
   ]
  },
  {
   "cell_type": "code",
   "execution_count": 18,
   "metadata": {},
   "outputs": [],
   "source": [
    "with open(path + \"pns_pm.pkl\", 'wb') as f:\n",
    "    pickle.dump(pns_pm, f, -1)"
   ]
  },
  {
   "cell_type": "code",
   "execution_count": 19,
   "metadata": {},
   "outputs": [],
   "source": [
    "with open(path + \"ca.pkl\", 'wb') as f:\n",
    "    pickle.dump(ca, f, -1)"
   ]
  },
  {
   "cell_type": "code",
   "execution_count": 12,
   "metadata": {},
   "outputs": [
    {
     "name": "stderr",
     "output_type": "stream",
     "text": [
      "INFO  : Global CATMAID instance set. Caching is ON. (pymaid)\n"
     ]
    }
   ],
   "source": [
    "\n",
    "import pymaid\n",
    "rm = pymaid.CatmaidInstance('https://neuropil.janelia.org/tracing/fafb/v14/', 'zzheng',\n",
    "'zzheng',\n",
    "'9583bd368fbac3f65aaaf8a2d32ed179c8de9d9d')"
   ]
  },
  {
   "cell_type": "code",
   "execution_count": 13,
   "metadata": {},
   "outputs": [
    {
     "data": {
      "application/vnd.jupyter.widget-view+json": {
       "model_id": "",
       "version_major": 2,
       "version_minor": 0
      },
      "text/plain": [
       "HBox(children=(IntProgress(value=0, description='Fetch neurons', max=40, style=ProgressStyle(description_width…"
      ]
     },
     "metadata": {},
     "output_type": "display_data"
    },
    {
     "name": "stdout",
     "output_type": "stream",
     "text": [
      "\r"
     ]
    },
    {
     "data": {
      "application/vnd.jupyter.widget-view+json": {
       "model_id": "",
       "version_major": 2,
       "version_minor": 0
      },
      "text/plain": [
       "HBox(children=(IntProgress(value=0, description='Make nrn', max=40, style=ProgressStyle(description_width='ini…"
      ]
     },
     "metadata": {},
     "output_type": "display_data"
    },
    {
     "name": "stdout",
     "output_type": "stream",
     "text": [
      "\r"
     ]
    },
    {
     "data": {
      "application/vnd.jupyter.widget-view+json": {
       "model_id": "",
       "version_major": 2,
       "version_minor": 0
      },
      "text/plain": [
       "HBox(children=(IntProgress(value=0, description='Fetch neurons', max=40, style=ProgressStyle(description_width…"
      ]
     },
     "metadata": {},
     "output_type": "display_data"
    },
    {
     "name": "stdout",
     "output_type": "stream",
     "text": [
      "\r"
     ]
    },
    {
     "data": {
      "application/vnd.jupyter.widget-view+json": {
       "model_id": "",
       "version_major": 2,
       "version_minor": 0
      },
      "text/plain": [
       "HBox(children=(IntProgress(value=0, description='Make nrn', max=40, style=ProgressStyle(description_width='ini…"
      ]
     },
     "metadata": {},
     "output_type": "display_data"
    },
    {
     "name": "stdout",
     "output_type": "stream",
     "text": [
      "\r"
     ]
    },
    {
     "data": {
      "application/vnd.jupyter.widget-view+json": {
       "model_id": "",
       "version_major": 2,
       "version_minor": 0
      },
      "text/plain": [
       "HBox(children=(IntProgress(value=0, description='Fetch neurons', max=33, style=ProgressStyle(description_width…"
      ]
     },
     "metadata": {},
     "output_type": "display_data"
    },
    {
     "name": "stdout",
     "output_type": "stream",
     "text": [
      "\r"
     ]
    },
    {
     "data": {
      "application/vnd.jupyter.widget-view+json": {
       "model_id": "",
       "version_major": 2,
       "version_minor": 0
      },
      "text/plain": [
       "HBox(children=(IntProgress(value=0, description='Make nrn', max=33, style=ProgressStyle(description_width='ini…"
      ]
     },
     "metadata": {},
     "output_type": "display_data"
    },
    {
     "name": "stdout",
     "output_type": "stream",
     "text": [
      "\r"
     ]
    }
   ],
   "source": [
    "nl = [pymaid.get_neuron([str(i) for i in j]) for j in [pn_skids[:40], pn_skids[40:80], pn_skids[80:]]]\n",
    "pns_pm = nl[0] + nl[1] + nl [2]\n",
    "ca = pymaid.get_volume('MB_CA_R')"
   ]
  },
  {
   "cell_type": "code",
   "execution_count": 14,
   "metadata": {},
   "outputs": [
    {
     "data": {
      "text/plain": [
       "<class 'pymaid.core.Volume'> \"MB_CA_R\" at 0x1a4991f2e8: 325 vertices, 644 faces"
      ]
     },
     "execution_count": 14,
     "metadata": {},
     "output_type": "execute_result"
    }
   ],
   "source": [
    "ca"
   ]
  },
  {
   "cell_type": "code",
   "execution_count": 10,
   "metadata": {},
   "outputs": [],
   "source": [
    "df = pd.read_excel(local_path + 'data/180613-pn_subtypes.xlsx')"
   ]
  },
  {
   "cell_type": "code",
   "execution_count": 5,
   "metadata": {},
   "outputs": [],
   "source": [
    "def save_json(js, file_name):\n",
    "    with open(file_name, 'w+') as file:\n",
    "        json.dump(js, file)\n",
    "    file.close()\n",
    "\n",
    "def load_json(path):\n",
    "    with open(path) as outfile:\n",
    "        r = json.load(outfile)\n",
    "    return r"
   ]
  },
  {
   "cell_type": "code",
   "execution_count": 7,
   "metadata": {},
   "outputs": [],
   "source": [
    "\n",
    "\n",
    "local_path = \"/Users/zhengz11/myscripts/git_clone/pn_kc/\"\n",
    "pn_skids = load_json(local_path + \"data/skids/pn\")"
   ]
  },
  {
   "cell_type": "code",
   "execution_count": 5,
   "metadata": {},
   "outputs": [],
   "source": [
    "import sys\n",
    "import os\n",
    "sys.path.append('/Users/zhengz11/myscripts/git_clone/pn_kc/')\n",
    "\n",
    "import json\n",
    "import mushroom_2to3.connect_path as cp\n",
    "import mushroom_2to3.analysis_routine as ar\n",
    "\n",
    "\n",
    "# credential, to delete when push to remote\n",
    "sys.path.append('/Users/zhengz11/myscripts/mushroom_v9/credential/')\n",
    "from fafb_tokens import token\n",
    "fafb_c = cp.fafb_connection(token)"
   ]
  },
  {
   "cell_type": "code",
   "execution_count": 8,
   "metadata": {},
   "outputs": [],
   "source": [
    "# start a connection to fafb_c to download data\n",
    "import sys\n",
    "sys.path.append('/Users/zhengz11/myscripts/git_clone/pn_kc/')\n",
    "import mushroom_2to3.connect_path as cp\n",
    "import mushroom_2to3.analysis_routine as ar\n",
    "import json\n",
    "\n",
    "# import mushroom_2to3.connect as cc\n",
    "local_path = \"/Users/zhengz11/myscripts/git_clone/pn_kc/\"\n",
    "def save_json(js, file_name):\n",
    "    with open(file_name, 'w+') as file:\n",
    "        json.dump(js, file)\n",
    "    file.close()\n",
    "\n",
    "def load_json(path):\n",
    "    with open(path) as outfile:\n",
    "        r = json.load(outfile)\n",
    "    return r\n",
    "\n",
    "pn_skids = load_json(local_path + \"data/skids/pn\")"
   ]
  },
  {
   "cell_type": "code",
   "execution_count": 5,
   "metadata": {},
   "outputs": [],
   "source": [
    "import sys\n",
    "sys.setrecursionlimit(30000)"
   ]
  },
  {
   "cell_type": "code",
   "execution_count": 20,
   "metadata": {},
   "outputs": [],
   "source": [
    "import pickle\n",
    "local_path = \"/Users/zhengz11/myscripts/git_clone/pn_kc/\"\n",
    "path = local_path + \"data/pn_bouton_clusters/\"\n",
    "with open(path + \"pns_pm.pkl\", 'wb') as f:\n",
    "    pickle.dump(pns_pm, f, -1)"
   ]
  },
  {
   "cell_type": "code",
   "execution_count": null,
   "metadata": {},
   "outputs": [],
   "source": [
    "import pickle\n",
    "local_path = \"/Users/zhengz11/myscripts/git_clone/pn_kc/\"\n",
    "path = local_path + \"data/pn_bouton_clusters/\"\n",
    "with open(path + \"pns_pm.pkl\", 'rb') as f:\n",
    "    pns_pm = pickle.load(f)"
   ]
  },
  {
   "cell_type": "code",
   "execution_count": 9,
   "metadata": {},
   "outputs": [
    {
     "data": {
      "application/vnd.jupyter.widget-view+json": {
       "model_id": "",
       "version_major": 2,
       "version_minor": 0
      },
      "text/plain": [
       "HBox(children=(IntProgress(value=0, description='Fetch neurons', max=40, style=ProgressStyle(description_width…"
      ]
     },
     "metadata": {},
     "output_type": "display_data"
    },
    {
     "name": "stdout",
     "output_type": "stream",
     "text": [
      "\r"
     ]
    },
    {
     "data": {
      "application/vnd.jupyter.widget-view+json": {
       "model_id": "",
       "version_major": 2,
       "version_minor": 0
      },
      "text/plain": [
       "HBox(children=(IntProgress(value=0, description='Make nrn', max=40, style=ProgressStyle(description_width='ini…"
      ]
     },
     "metadata": {},
     "output_type": "display_data"
    },
    {
     "name": "stdout",
     "output_type": "stream",
     "text": [
      "\r"
     ]
    },
    {
     "data": {
      "application/vnd.jupyter.widget-view+json": {
       "model_id": "",
       "version_major": 2,
       "version_minor": 0
      },
      "text/plain": [
       "HBox(children=(IntProgress(value=0, description='Fetch neurons', max=40, style=ProgressStyle(description_width…"
      ]
     },
     "metadata": {},
     "output_type": "display_data"
    },
    {
     "name": "stdout",
     "output_type": "stream",
     "text": [
      "\r"
     ]
    },
    {
     "data": {
      "application/vnd.jupyter.widget-view+json": {
       "model_id": "",
       "version_major": 2,
       "version_minor": 0
      },
      "text/plain": [
       "HBox(children=(IntProgress(value=0, description='Make nrn', max=40, style=ProgressStyle(description_width='ini…"
      ]
     },
     "metadata": {},
     "output_type": "display_data"
    },
    {
     "name": "stdout",
     "output_type": "stream",
     "text": [
      "\r"
     ]
    },
    {
     "data": {
      "application/vnd.jupyter.widget-view+json": {
       "model_id": "",
       "version_major": 2,
       "version_minor": 0
      },
      "text/plain": [
       "HBox(children=(IntProgress(value=0, description='Fetch neurons', max=33, style=ProgressStyle(description_width…"
      ]
     },
     "metadata": {},
     "output_type": "display_data"
    },
    {
     "name": "stdout",
     "output_type": "stream",
     "text": [
      "\r"
     ]
    },
    {
     "data": {
      "application/vnd.jupyter.widget-view+json": {
       "model_id": "",
       "version_major": 2,
       "version_minor": 0
      },
      "text/plain": [
       "HBox(children=(IntProgress(value=0, description='Make nrn', max=33, style=ProgressStyle(description_width='ini…"
      ]
     },
     "metadata": {},
     "output_type": "display_data"
    },
    {
     "name": "stdout",
     "output_type": "stream",
     "text": [
      "\r"
     ]
    }
   ],
   "source": [
    "nl = [pymaid.get_neuron([str(i) for i in j]) for j in [pn_skids[:40], pn_skids[40:80], pn_skids[80:]]]\n",
    "pns_pm = nl[0] + nl[1] + nl [2]"
   ]
  },
  {
   "cell_type": "code",
   "execution_count": 73,
   "metadata": {},
   "outputs": [
    {
     "data": {
      "text/plain": [
       "['DL2v', 'DM1', 'DM2', 'DM3', 'DM4', 'DP1m', 'VA2', 'VA4', 'VM2', 'VM3']"
      ]
     },
     "execution_count": 73,
     "metadata": {},
     "output_type": "execute_result"
    }
   ],
   "source": [
    "t1 = df_lookup('glom_id', comm_ids, 'short_glom_name', glom_btn_table)\n",
    "t1.sort()\n",
    "t1"
   ]
  },
  {
   "cell_type": "code",
   "execution_count": 68,
   "metadata": {},
   "outputs": [
    {
     "data": {
      "text/html": [
       "<div>\n",
       "<style scoped>\n",
       "    .dataframe tbody tr th:only-of-type {\n",
       "        vertical-align: middle;\n",
       "    }\n",
       "\n",
       "    .dataframe tbody tr th {\n",
       "        vertical-align: top;\n",
       "    }\n",
       "\n",
       "    .dataframe thead th {\n",
       "        text-align: right;\n",
       "    }\n",
       "</style>\n",
       "<table border=\"1\" class=\"dataframe\">\n",
       "  <thead>\n",
       "    <tr style=\"text-align: right;\">\n",
       "      <th></th>\n",
       "      <th>Unnamed: 0</th>\n",
       "      <th>bouton_count</th>\n",
       "      <th>glom_anno</th>\n",
       "      <th>glom_anno_id</th>\n",
       "      <th>glom_id</th>\n",
       "      <th>norm_bouton_count</th>\n",
       "      <th>short_glom_name</th>\n",
       "    </tr>\n",
       "  </thead>\n",
       "  <tbody>\n",
       "    <tr>\n",
       "      <th>0</th>\n",
       "      <td>0</td>\n",
       "      <td>22</td>\n",
       "      <td>glomerulus DA1</td>\n",
       "      <td>1419201</td>\n",
       "      <td>0</td>\n",
       "      <td>0.044</td>\n",
       "      <td>DA1</td>\n",
       "    </tr>\n",
       "    <tr>\n",
       "      <th>1</th>\n",
       "      <td>1</td>\n",
       "      <td>4</td>\n",
       "      <td>glomerulus VM4</td>\n",
       "      <td>1419198</td>\n",
       "      <td>1</td>\n",
       "      <td>0.008</td>\n",
       "      <td>VM4</td>\n",
       "    </tr>\n",
       "    <tr>\n",
       "      <th>2</th>\n",
       "      <td>2</td>\n",
       "      <td>5</td>\n",
       "      <td>glomerulus DA3</td>\n",
       "      <td>2500563</td>\n",
       "      <td>2</td>\n",
       "      <td>0.010</td>\n",
       "      <td>DA3</td>\n",
       "    </tr>\n",
       "    <tr>\n",
       "      <th>3</th>\n",
       "      <td>3</td>\n",
       "      <td>9</td>\n",
       "      <td>glomerulus VA6</td>\n",
       "      <td>2500515</td>\n",
       "      <td>3</td>\n",
       "      <td>0.018</td>\n",
       "      <td>VA6</td>\n",
       "    </tr>\n",
       "    <tr>\n",
       "      <th>4</th>\n",
       "      <td>4</td>\n",
       "      <td>11</td>\n",
       "      <td>glomerulus VA4</td>\n",
       "      <td>1283123</td>\n",
       "      <td>4</td>\n",
       "      <td>0.022</td>\n",
       "      <td>VA4</td>\n",
       "    </tr>\n",
       "    <tr>\n",
       "      <th>5</th>\n",
       "      <td>5</td>\n",
       "      <td>6</td>\n",
       "      <td>glomerulus VM7v</td>\n",
       "      <td>1419157</td>\n",
       "      <td>5</td>\n",
       "      <td>0.012</td>\n",
       "      <td>VM7v</td>\n",
       "    </tr>\n",
       "    <tr>\n",
       "      <th>6</th>\n",
       "      <td>6</td>\n",
       "      <td>6</td>\n",
       "      <td>glomerulus VA5</td>\n",
       "      <td>2500530</td>\n",
       "      <td>6</td>\n",
       "      <td>0.012</td>\n",
       "      <td>VA5</td>\n",
       "    </tr>\n",
       "    <tr>\n",
       "      <th>7</th>\n",
       "      <td>7</td>\n",
       "      <td>20</td>\n",
       "      <td>glomerulus V</td>\n",
       "      <td>1419095</td>\n",
       "      <td>8</td>\n",
       "      <td>0.040</td>\n",
       "      <td>V</td>\n",
       "    </tr>\n",
       "    <tr>\n",
       "      <th>8</th>\n",
       "      <td>8</td>\n",
       "      <td>6</td>\n",
       "      <td>glomerulus VA1d</td>\n",
       "      <td>1283107</td>\n",
       "      <td>9</td>\n",
       "      <td>0.012</td>\n",
       "      <td>VA1d</td>\n",
       "    </tr>\n",
       "    <tr>\n",
       "      <th>9</th>\n",
       "      <td>9</td>\n",
       "      <td>5</td>\n",
       "      <td>glomerulus D</td>\n",
       "      <td>1419148</td>\n",
       "      <td>10</td>\n",
       "      <td>0.010</td>\n",
       "      <td>D</td>\n",
       "    </tr>\n",
       "    <tr>\n",
       "      <th>10</th>\n",
       "      <td>10</td>\n",
       "      <td>11</td>\n",
       "      <td>glomerulus VC4</td>\n",
       "      <td>2500615</td>\n",
       "      <td>11</td>\n",
       "      <td>0.022</td>\n",
       "      <td>VC4</td>\n",
       "    </tr>\n",
       "    <tr>\n",
       "      <th>11</th>\n",
       "      <td>11</td>\n",
       "      <td>8</td>\n",
       "      <td>glomerulus VM1</td>\n",
       "      <td>1419153</td>\n",
       "      <td>12</td>\n",
       "      <td>0.016</td>\n",
       "      <td>VM1</td>\n",
       "    </tr>\n",
       "    <tr>\n",
       "      <th>12</th>\n",
       "      <td>12</td>\n",
       "      <td>10</td>\n",
       "      <td>glomerulus DL2v</td>\n",
       "      <td>1419214</td>\n",
       "      <td>42</td>\n",
       "      <td>0.020</td>\n",
       "      <td>DL2v</td>\n",
       "    </tr>\n",
       "    <tr>\n",
       "      <th>13</th>\n",
       "      <td>13</td>\n",
       "      <td>11</td>\n",
       "      <td>glomerulus VM5v</td>\n",
       "      <td>1194549</td>\n",
       "      <td>14</td>\n",
       "      <td>0.022</td>\n",
       "      <td>VM5v</td>\n",
       "    </tr>\n",
       "    <tr>\n",
       "      <th>14</th>\n",
       "      <td>14</td>\n",
       "      <td>9</td>\n",
       "      <td>glomerulus DC2</td>\n",
       "      <td>1283103</td>\n",
       "      <td>15</td>\n",
       "      <td>0.018</td>\n",
       "      <td>DC2</td>\n",
       "    </tr>\n",
       "    <tr>\n",
       "      <th>15</th>\n",
       "      <td>15</td>\n",
       "      <td>9</td>\n",
       "      <td>glomerulus DM5</td>\n",
       "      <td>1419102</td>\n",
       "      <td>16</td>\n",
       "      <td>0.018</td>\n",
       "      <td>DM5</td>\n",
       "    </tr>\n",
       "    <tr>\n",
       "      <th>16</th>\n",
       "      <td>16</td>\n",
       "      <td>11</td>\n",
       "      <td>glomerulus DC3</td>\n",
       "      <td>1283111</td>\n",
       "      <td>17</td>\n",
       "      <td>0.022</td>\n",
       "      <td>DC3</td>\n",
       "    </tr>\n",
       "    <tr>\n",
       "      <th>17</th>\n",
       "      <td>17</td>\n",
       "      <td>6</td>\n",
       "      <td>glomerulus DL2d</td>\n",
       "      <td>1419171</td>\n",
       "      <td>13</td>\n",
       "      <td>0.012</td>\n",
       "      <td>DL2d</td>\n",
       "    </tr>\n",
       "    <tr>\n",
       "      <th>18</th>\n",
       "      <td>18</td>\n",
       "      <td>16</td>\n",
       "      <td>glomerulus DA2</td>\n",
       "      <td>1419133</td>\n",
       "      <td>18</td>\n",
       "      <td>0.032</td>\n",
       "      <td>DA2</td>\n",
       "    </tr>\n",
       "    <tr>\n",
       "      <th>19</th>\n",
       "      <td>19</td>\n",
       "      <td>10</td>\n",
       "      <td>glomerulus DM6</td>\n",
       "      <td>2500548</td>\n",
       "      <td>19</td>\n",
       "      <td>0.020</td>\n",
       "      <td>DM6</td>\n",
       "    </tr>\n",
       "    <tr>\n",
       "      <th>20</th>\n",
       "      <td>20</td>\n",
       "      <td>15</td>\n",
       "      <td>glomerulus DL1</td>\n",
       "      <td>1419144</td>\n",
       "      <td>20</td>\n",
       "      <td>0.030</td>\n",
       "      <td>DL1</td>\n",
       "    </tr>\n",
       "    <tr>\n",
       "      <th>21</th>\n",
       "      <td>21</td>\n",
       "      <td>12</td>\n",
       "      <td>glomerulus VC3l</td>\n",
       "      <td>4587289</td>\n",
       "      <td>21</td>\n",
       "      <td>0.024</td>\n",
       "      <td>VC3l</td>\n",
       "    </tr>\n",
       "    <tr>\n",
       "      <th>22</th>\n",
       "      <td>22</td>\n",
       "      <td>13</td>\n",
       "      <td>glomerulus DM2</td>\n",
       "      <td>1419110</td>\n",
       "      <td>22</td>\n",
       "      <td>0.026</td>\n",
       "      <td>DM2</td>\n",
       "    </tr>\n",
       "    <tr>\n",
       "      <th>23</th>\n",
       "      <td>23</td>\n",
       "      <td>9</td>\n",
       "      <td>glomerulus VM3</td>\n",
       "      <td>1419178</td>\n",
       "      <td>23</td>\n",
       "      <td>0.018</td>\n",
       "      <td>VM3</td>\n",
       "    </tr>\n",
       "    <tr>\n",
       "      <th>24</th>\n",
       "      <td>24</td>\n",
       "      <td>5</td>\n",
       "      <td>glomerulus DL3</td>\n",
       "      <td>2468810</td>\n",
       "      <td>24</td>\n",
       "      <td>0.010</td>\n",
       "      <td>DL3</td>\n",
       "    </tr>\n",
       "    <tr>\n",
       "      <th>25</th>\n",
       "      <td>25</td>\n",
       "      <td>7</td>\n",
       "      <td>glomerulus VC1</td>\n",
       "      <td>1419195</td>\n",
       "      <td>25</td>\n",
       "      <td>0.014</td>\n",
       "      <td>VC1</td>\n",
       "    </tr>\n",
       "    <tr>\n",
       "      <th>26</th>\n",
       "      <td>26</td>\n",
       "      <td>13</td>\n",
       "      <td>glomerulus VM5d</td>\n",
       "      <td>1194543</td>\n",
       "      <td>26</td>\n",
       "      <td>0.026</td>\n",
       "      <td>VM5d</td>\n",
       "    </tr>\n",
       "    <tr>\n",
       "      <th>27</th>\n",
       "      <td>27</td>\n",
       "      <td>3</td>\n",
       "      <td>glomerulus VP3</td>\n",
       "      <td>3243803</td>\n",
       "      <td>27</td>\n",
       "      <td>0.006</td>\n",
       "      <td>VP3</td>\n",
       "    </tr>\n",
       "    <tr>\n",
       "      <th>28</th>\n",
       "      <td>28</td>\n",
       "      <td>4</td>\n",
       "      <td>glomerulus VL1</td>\n",
       "      <td>2500599</td>\n",
       "      <td>28</td>\n",
       "      <td>0.008</td>\n",
       "      <td>VL1</td>\n",
       "    </tr>\n",
       "    <tr>\n",
       "      <th>29</th>\n",
       "      <td>29</td>\n",
       "      <td>11</td>\n",
       "      <td>glomerulus VP1</td>\n",
       "      <td>5304188</td>\n",
       "      <td>7</td>\n",
       "      <td>0.022</td>\n",
       "      <td>VP1</td>\n",
       "    </tr>\n",
       "    <tr>\n",
       "      <th>30</th>\n",
       "      <td>30</td>\n",
       "      <td>12</td>\n",
       "      <td>glomerulus DC1</td>\n",
       "      <td>1419168</td>\n",
       "      <td>29</td>\n",
       "      <td>0.024</td>\n",
       "      <td>DC1</td>\n",
       "    </tr>\n",
       "    <tr>\n",
       "      <th>31</th>\n",
       "      <td>31</td>\n",
       "      <td>15</td>\n",
       "      <td>glomerulus DM1</td>\n",
       "      <td>1419230</td>\n",
       "      <td>30</td>\n",
       "      <td>0.030</td>\n",
       "      <td>DM1</td>\n",
       "    </tr>\n",
       "    <tr>\n",
       "      <th>32</th>\n",
       "      <td>32</td>\n",
       "      <td>5</td>\n",
       "      <td>glomerulus VP2</td>\n",
       "      <td>4672152</td>\n",
       "      <td>31</td>\n",
       "      <td>0.010</td>\n",
       "      <td>VP2</td>\n",
       "    </tr>\n",
       "    <tr>\n",
       "      <th>33</th>\n",
       "      <td>33</td>\n",
       "      <td>7</td>\n",
       "      <td>glomerulus VM2</td>\n",
       "      <td>1419073</td>\n",
       "      <td>32</td>\n",
       "      <td>0.014</td>\n",
       "      <td>VM2</td>\n",
       "    </tr>\n",
       "    <tr>\n",
       "      <th>34</th>\n",
       "      <td>34</td>\n",
       "      <td>8</td>\n",
       "      <td>glomerulus VC2</td>\n",
       "      <td>1419099</td>\n",
       "      <td>33</td>\n",
       "      <td>0.016</td>\n",
       "      <td>VC2</td>\n",
       "    </tr>\n",
       "    <tr>\n",
       "      <th>35</th>\n",
       "      <td>35</td>\n",
       "      <td>8</td>\n",
       "      <td>glomerulus DM3</td>\n",
       "      <td>1419219</td>\n",
       "      <td>34</td>\n",
       "      <td>0.016</td>\n",
       "      <td>DM3</td>\n",
       "    </tr>\n",
       "    <tr>\n",
       "      <th>36</th>\n",
       "      <td>36</td>\n",
       "      <td>18</td>\n",
       "      <td>glomerulus VA7m</td>\n",
       "      <td>1419121</td>\n",
       "      <td>35</td>\n",
       "      <td>0.036</td>\n",
       "      <td>VA7m</td>\n",
       "    </tr>\n",
       "    <tr>\n",
       "      <th>37</th>\n",
       "      <td>37</td>\n",
       "      <td>14</td>\n",
       "      <td>glomerulus VC3m</td>\n",
       "      <td>2500575</td>\n",
       "      <td>36</td>\n",
       "      <td>0.028</td>\n",
       "      <td>VC3m</td>\n",
       "    </tr>\n",
       "    <tr>\n",
       "      <th>38</th>\n",
       "      <td>38</td>\n",
       "      <td>6</td>\n",
       "      <td>glomerulus DL5</td>\n",
       "      <td>1419118</td>\n",
       "      <td>37</td>\n",
       "      <td>0.012</td>\n",
       "      <td>DL5</td>\n",
       "    </tr>\n",
       "    <tr>\n",
       "      <th>39</th>\n",
       "      <td>39</td>\n",
       "      <td>12</td>\n",
       "      <td>glomerulus DM4</td>\n",
       "      <td>1419070</td>\n",
       "      <td>38</td>\n",
       "      <td>0.024</td>\n",
       "      <td>DM4</td>\n",
       "    </tr>\n",
       "    <tr>\n",
       "      <th>40</th>\n",
       "      <td>40</td>\n",
       "      <td>5</td>\n",
       "      <td>glomerulus VM7d</td>\n",
       "      <td>1419114</td>\n",
       "      <td>39</td>\n",
       "      <td>0.010</td>\n",
       "      <td>VM7d</td>\n",
       "    </tr>\n",
       "    <tr>\n",
       "      <th>41</th>\n",
       "      <td>41</td>\n",
       "      <td>4</td>\n",
       "      <td>glomerulus DL4</td>\n",
       "      <td>1419192</td>\n",
       "      <td>40</td>\n",
       "      <td>0.008</td>\n",
       "      <td>DL4</td>\n",
       "    </tr>\n",
       "    <tr>\n",
       "      <th>42</th>\n",
       "      <td>42</td>\n",
       "      <td>7</td>\n",
       "      <td>glomerulus DA4l</td>\n",
       "      <td>4502221</td>\n",
       "      <td>41</td>\n",
       "      <td>0.014</td>\n",
       "      <td>DA4l</td>\n",
       "    </tr>\n",
       "    <tr>\n",
       "      <th>43</th>\n",
       "      <td>43</td>\n",
       "      <td>6</td>\n",
       "      <td>glomerulus VA1v</td>\n",
       "      <td>2500585</td>\n",
       "      <td>43</td>\n",
       "      <td>0.012</td>\n",
       "      <td>VA1v</td>\n",
       "    </tr>\n",
       "    <tr>\n",
       "      <th>44</th>\n",
       "      <td>44</td>\n",
       "      <td>16</td>\n",
       "      <td>glomerulus DP1m</td>\n",
       "      <td>2500472</td>\n",
       "      <td>44</td>\n",
       "      <td>0.032</td>\n",
       "      <td>DP1m</td>\n",
       "    </tr>\n",
       "    <tr>\n",
       "      <th>45</th>\n",
       "      <td>45</td>\n",
       "      <td>9</td>\n",
       "      <td>glomerulus VC5</td>\n",
       "      <td>5604551</td>\n",
       "      <td>59</td>\n",
       "      <td>0.018</td>\n",
       "      <td>VC5</td>\n",
       "    </tr>\n",
       "    <tr>\n",
       "      <th>46</th>\n",
       "      <td>46</td>\n",
       "      <td>5</td>\n",
       "      <td>glomerulus DA4m</td>\n",
       "      <td>1419080</td>\n",
       "      <td>46</td>\n",
       "      <td>0.010</td>\n",
       "      <td>DA4m</td>\n",
       "    </tr>\n",
       "    <tr>\n",
       "      <th>47</th>\n",
       "      <td>47</td>\n",
       "      <td>9</td>\n",
       "      <td>glomerulus VA2</td>\n",
       "      <td>1419211</td>\n",
       "      <td>47</td>\n",
       "      <td>0.018</td>\n",
       "      <td>VA2</td>\n",
       "    </tr>\n",
       "    <tr>\n",
       "      <th>48</th>\n",
       "      <td>48</td>\n",
       "      <td>6</td>\n",
       "      <td>glomerulus VA7l</td>\n",
       "      <td>1419088</td>\n",
       "      <td>48</td>\n",
       "      <td>0.012</td>\n",
       "      <td>VA7l</td>\n",
       "    </tr>\n",
       "    <tr>\n",
       "      <th>49</th>\n",
       "      <td>49</td>\n",
       "      <td>2</td>\n",
       "      <td>glomerulus DC4</td>\n",
       "      <td>1419077</td>\n",
       "      <td>49</td>\n",
       "      <td>0.004</td>\n",
       "      <td>DC4</td>\n",
       "    </tr>\n",
       "    <tr>\n",
       "      <th>50</th>\n",
       "      <td>50</td>\n",
       "      <td>12</td>\n",
       "      <td>glomerulus DP1l</td>\n",
       "      <td>2500556</td>\n",
       "      <td>50</td>\n",
       "      <td>0.024</td>\n",
       "      <td>DP1l</td>\n",
       "    </tr>\n",
       "    <tr>\n",
       "      <th>51</th>\n",
       "      <td>51</td>\n",
       "      <td>11</td>\n",
       "      <td>glomerulus VA3</td>\n",
       "      <td>1419182</td>\n",
       "      <td>51</td>\n",
       "      <td>0.022</td>\n",
       "      <td>VA3</td>\n",
       "    </tr>\n",
       "    <tr>\n",
       "      <th>52</th>\n",
       "      <td>52</td>\n",
       "      <td>9</td>\n",
       "      <td>glomerulus VL2p</td>\n",
       "      <td>1419126</td>\n",
       "      <td>52</td>\n",
       "      <td>0.018</td>\n",
       "      <td>VL2p</td>\n",
       "    </tr>\n",
       "    <tr>\n",
       "      <th>53</th>\n",
       "      <td>53</td>\n",
       "      <td>7</td>\n",
       "      <td>glomerulus VL2a</td>\n",
       "      <td>2500501</td>\n",
       "      <td>53</td>\n",
       "      <td>0.014</td>\n",
       "      <td>VL2a</td>\n",
       "    </tr>\n",
       "  </tbody>\n",
       "</table>\n",
       "</div>"
      ],
      "text/plain": [
       "    Unnamed: 0  bouton_count        glom_anno  glom_anno_id  glom_id  \\\n",
       "0            0            22   glomerulus DA1       1419201        0   \n",
       "1            1             4   glomerulus VM4       1419198        1   \n",
       "2            2             5   glomerulus DA3       2500563        2   \n",
       "3            3             9   glomerulus VA6       2500515        3   \n",
       "4            4            11   glomerulus VA4       1283123        4   \n",
       "5            5             6  glomerulus VM7v       1419157        5   \n",
       "6            6             6   glomerulus VA5       2500530        6   \n",
       "7            7            20     glomerulus V       1419095        8   \n",
       "8            8             6  glomerulus VA1d       1283107        9   \n",
       "9            9             5     glomerulus D       1419148       10   \n",
       "10          10            11   glomerulus VC4       2500615       11   \n",
       "11          11             8   glomerulus VM1       1419153       12   \n",
       "12          12            10  glomerulus DL2v       1419214       42   \n",
       "13          13            11  glomerulus VM5v       1194549       14   \n",
       "14          14             9   glomerulus DC2       1283103       15   \n",
       "15          15             9   glomerulus DM5       1419102       16   \n",
       "16          16            11   glomerulus DC3       1283111       17   \n",
       "17          17             6  glomerulus DL2d       1419171       13   \n",
       "18          18            16   glomerulus DA2       1419133       18   \n",
       "19          19            10   glomerulus DM6       2500548       19   \n",
       "20          20            15   glomerulus DL1       1419144       20   \n",
       "21          21            12  glomerulus VC3l       4587289       21   \n",
       "22          22            13   glomerulus DM2       1419110       22   \n",
       "23          23             9   glomerulus VM3       1419178       23   \n",
       "24          24             5   glomerulus DL3       2468810       24   \n",
       "25          25             7   glomerulus VC1       1419195       25   \n",
       "26          26            13  glomerulus VM5d       1194543       26   \n",
       "27          27             3   glomerulus VP3       3243803       27   \n",
       "28          28             4   glomerulus VL1       2500599       28   \n",
       "29          29            11   glomerulus VP1       5304188        7   \n",
       "30          30            12   glomerulus DC1       1419168       29   \n",
       "31          31            15   glomerulus DM1       1419230       30   \n",
       "32          32             5   glomerulus VP2       4672152       31   \n",
       "33          33             7   glomerulus VM2       1419073       32   \n",
       "34          34             8   glomerulus VC2       1419099       33   \n",
       "35          35             8   glomerulus DM3       1419219       34   \n",
       "36          36            18  glomerulus VA7m       1419121       35   \n",
       "37          37            14  glomerulus VC3m       2500575       36   \n",
       "38          38             6   glomerulus DL5       1419118       37   \n",
       "39          39            12   glomerulus DM4       1419070       38   \n",
       "40          40             5  glomerulus VM7d       1419114       39   \n",
       "41          41             4   glomerulus DL4       1419192       40   \n",
       "42          42             7  glomerulus DA4l       4502221       41   \n",
       "43          43             6  glomerulus VA1v       2500585       43   \n",
       "44          44            16  glomerulus DP1m       2500472       44   \n",
       "45          45             9   glomerulus VC5       5604551       59   \n",
       "46          46             5  glomerulus DA4m       1419080       46   \n",
       "47          47             9   glomerulus VA2       1419211       47   \n",
       "48          48             6  glomerulus VA7l       1419088       48   \n",
       "49          49             2   glomerulus DC4       1419077       49   \n",
       "50          50            12  glomerulus DP1l       2500556       50   \n",
       "51          51            11   glomerulus VA3       1419182       51   \n",
       "52          52             9  glomerulus VL2p       1419126       52   \n",
       "53          53             7  glomerulus VL2a       2500501       53   \n",
       "\n",
       "    norm_bouton_count short_glom_name  \n",
       "0               0.044             DA1  \n",
       "1               0.008             VM4  \n",
       "2               0.010             DA3  \n",
       "3               0.018             VA6  \n",
       "4               0.022             VA4  \n",
       "5               0.012            VM7v  \n",
       "6               0.012             VA5  \n",
       "7               0.040               V  \n",
       "8               0.012            VA1d  \n",
       "9               0.010               D  \n",
       "10              0.022             VC4  \n",
       "11              0.016             VM1  \n",
       "12              0.020            DL2v  \n",
       "13              0.022            VM5v  \n",
       "14              0.018             DC2  \n",
       "15              0.018             DM5  \n",
       "16              0.022             DC3  \n",
       "17              0.012            DL2d  \n",
       "18              0.032             DA2  \n",
       "19              0.020             DM6  \n",
       "20              0.030             DL1  \n",
       "21              0.024            VC3l  \n",
       "22              0.026             DM2  \n",
       "23              0.018             VM3  \n",
       "24              0.010             DL3  \n",
       "25              0.014             VC1  \n",
       "26              0.026            VM5d  \n",
       "27              0.006             VP3  \n",
       "28              0.008             VL1  \n",
       "29              0.022             VP1  \n",
       "30              0.024             DC1  \n",
       "31              0.030             DM1  \n",
       "32              0.010             VP2  \n",
       "33              0.014             VM2  \n",
       "34              0.016             VC2  \n",
       "35              0.016             DM3  \n",
       "36              0.036            VA7m  \n",
       "37              0.028            VC3m  \n",
       "38              0.012             DL5  \n",
       "39              0.024             DM4  \n",
       "40              0.010            VM7d  \n",
       "41              0.008             DL4  \n",
       "42              0.014            DA4l  \n",
       "43              0.012            VA1v  \n",
       "44              0.032            DP1m  \n",
       "45              0.018             VC5  \n",
       "46              0.010            DA4m  \n",
       "47              0.018             VA2  \n",
       "48              0.012            VA7l  \n",
       "49              0.004             DC4  \n",
       "50              0.024            DP1l  \n",
       "51              0.022             VA3  \n",
       "52              0.018            VL2p  \n",
       "53              0.014            VL2a  "
      ]
     },
     "execution_count": 68,
     "metadata": {},
     "output_type": "execute_result"
    }
   ],
   "source": [
    "glom_btn_table"
   ]
  },
  {
   "cell_type": "code",
   "execution_count": 21,
   "metadata": {},
   "outputs": [],
   "source": [
    "import pickle\n",
    "path = local_path + \"data/pn_bouton_clusters/\"\n",
    "for i in pns_pm:\n",
    "    with open(path + \"pns_pm/\" + \"{}.pkl\".format(i.skeleton_id), 'wb') as f:\n",
    "        pickle.dump(i, f, -1)"
   ]
  },
  {
   "cell_type": "code",
   "execution_count": 22,
   "metadata": {},
   "outputs": [],
   "source": [
    "import pickle\n",
    "path = local_path + \"data/pn_bouton_clusters/\"\n",
    "nl_t1 = []\n",
    "for i in pn_skids:\n",
    "    with open(path + \"pns_pm/\" + \"{}.pkl\".format(i), 'rb') as f:\n",
    "        n = pickle.load(f)\n",
    "        nl_t1.append(n)\n",
    "        \n",
    "pns_pm_l = pymaid.CatmaidNeuronList(nl_t1)"
   ]
  },
  {
   "cell_type": "code",
   "execution_count": 23,
   "metadata": {},
   "outputs": [
    {
     "data": {
      "text/html": [
       "<div>\n",
       "<style scoped>\n",
       "    .dataframe tbody tr th:only-of-type {\n",
       "        vertical-align: middle;\n",
       "    }\n",
       "\n",
       "    .dataframe tbody tr th {\n",
       "        vertical-align: top;\n",
       "    }\n",
       "\n",
       "    .dataframe thead th {\n",
       "        text-align: right;\n",
       "    }\n",
       "</style>\n",
       "<table border=\"1\" class=\"dataframe\">\n",
       "  <thead>\n",
       "    <tr style=\"text-align: right;\">\n",
       "      <th></th>\n",
       "      <th>neuron_name</th>\n",
       "      <th>skeleton_id</th>\n",
       "      <th>n_nodes</th>\n",
       "      <th>n_connectors</th>\n",
       "      <th>n_branch_nodes</th>\n",
       "      <th>n_end_nodes</th>\n",
       "      <th>open_ends</th>\n",
       "      <th>cable_length</th>\n",
       "      <th>review_status</th>\n",
       "      <th>soma</th>\n",
       "    </tr>\n",
       "  </thead>\n",
       "  <tbody>\n",
       "    <tr>\n",
       "      <th>0</th>\n",
       "      <td>PN glomerulus DA1 57316 ML 2863105</td>\n",
       "      <td>2863104</td>\n",
       "      <td>6774</td>\n",
       "      <td>470</td>\n",
       "      <td>280</td>\n",
       "      <td>292</td>\n",
       "      <td>198</td>\n",
       "      <td>1522.055763</td>\n",
       "      <td>NA</td>\n",
       "      <td>True</td>\n",
       "    </tr>\n",
       "    <tr>\n",
       "      <th>1</th>\n",
       "      <td>PN glomerulus DA3 57350 HG</td>\n",
       "      <td>57349</td>\n",
       "      <td>7525</td>\n",
       "      <td>633</td>\n",
       "      <td>258</td>\n",
       "      <td>266</td>\n",
       "      <td>79</td>\n",
       "      <td>1487.804536</td>\n",
       "      <td>NA</td>\n",
       "      <td>True</td>\n",
       "    </tr>\n",
       "    <tr>\n",
       "      <th>2</th>\n",
       "      <td>PN glomerulus DA1 57354 GA</td>\n",
       "      <td>57353</td>\n",
       "      <td>6985</td>\n",
       "      <td>370</td>\n",
       "      <td>225</td>\n",
       "      <td>236</td>\n",
       "      <td>162</td>\n",
       "      <td>1539.354946</td>\n",
       "      <td>NA</td>\n",
       "      <td>True</td>\n",
       "    </tr>\n",
       "    <tr>\n",
       "      <th>3</th>\n",
       "      <td>PN glomerulus DL1 27304 JMR</td>\n",
       "      <td>11544074</td>\n",
       "      <td>9506</td>\n",
       "      <td>1069</td>\n",
       "      <td>408</td>\n",
       "      <td>434</td>\n",
       "      <td>224</td>\n",
       "      <td>1991.525656</td>\n",
       "      <td>NA</td>\n",
       "      <td>True</td>\n",
       "    </tr>\n",
       "    <tr>\n",
       "      <th>4</th>\n",
       "      <td>PN glomerulus VA6 017 DB</td>\n",
       "      <td>16</td>\n",
       "      <td>16840</td>\n",
       "      <td>2158</td>\n",
       "      <td>1172</td>\n",
       "      <td>1230</td>\n",
       "      <td>680</td>\n",
       "      <td>4003.150775</td>\n",
       "      <td>NA</td>\n",
       "      <td>True</td>\n",
       "    </tr>\n",
       "    <tr>\n",
       "      <th>...</th>\n",
       "      <td>...</td>\n",
       "      <td>...</td>\n",
       "      <td>...</td>\n",
       "      <td>...</td>\n",
       "      <td>...</td>\n",
       "      <td>...</td>\n",
       "      <td>...</td>\n",
       "      <td>...</td>\n",
       "      <td>...</td>\n",
       "      <td>...</td>\n",
       "    </tr>\n",
       "    <tr>\n",
       "      <th>108</th>\n",
       "      <td>PN glomerulus DA1 57324 LK JSL</td>\n",
       "      <td>57323</td>\n",
       "      <td>6223</td>\n",
       "      <td>481</td>\n",
       "      <td>256</td>\n",
       "      <td>268</td>\n",
       "      <td>167</td>\n",
       "      <td>1483.462634</td>\n",
       "      <td>NA</td>\n",
       "      <td>True</td>\n",
       "    </tr>\n",
       "    <tr>\n",
       "      <th>109</th>\n",
       "      <td>PN glomerulus VL2a 22000 JMR</td>\n",
       "      <td>21999</td>\n",
       "      <td>14781</td>\n",
       "      <td>2001</td>\n",
       "      <td>854</td>\n",
       "      <td>900</td>\n",
       "      <td>548</td>\n",
       "      <td>3531.057252</td>\n",
       "      <td>NA</td>\n",
       "      <td>True</td>\n",
       "    </tr>\n",
       "    <tr>\n",
       "      <th>110</th>\n",
       "      <td>PN glomerulus DL2d 57334 IJA</td>\n",
       "      <td>57333</td>\n",
       "      <td>5180</td>\n",
       "      <td>431</td>\n",
       "      <td>240</td>\n",
       "      <td>252</td>\n",
       "      <td>120</td>\n",
       "      <td>1337.451688</td>\n",
       "      <td>NA</td>\n",
       "      <td>True</td>\n",
       "    </tr>\n",
       "    <tr>\n",
       "      <th>111</th>\n",
       "      <td>PN glomerulus DL2d 57338 IJA</td>\n",
       "      <td>57337</td>\n",
       "      <td>5204</td>\n",
       "      <td>362</td>\n",
       "      <td>200</td>\n",
       "      <td>215</td>\n",
       "      <td>132</td>\n",
       "      <td>1234.089251</td>\n",
       "      <td>NA</td>\n",
       "      <td>True</td>\n",
       "    </tr>\n",
       "    <tr>\n",
       "      <th>112</th>\n",
       "      <td>PN glomerulus DL2d 57342 ML</td>\n",
       "      <td>57341</td>\n",
       "      <td>4405</td>\n",
       "      <td>278</td>\n",
       "      <td>174</td>\n",
       "      <td>187</td>\n",
       "      <td>124</td>\n",
       "      <td>1128.007090</td>\n",
       "      <td>NA</td>\n",
       "      <td>True</td>\n",
       "    </tr>\n",
       "  </tbody>\n",
       "</table>\n",
       "<p>113 rows × 10 columns</p>\n",
       "</div>"
      ],
      "text/plain": [
       "<class 'pymaid.core.CatmaidNeuronList'> of 113 neurons \n",
       "                             neuron_name skeleton_id  n_nodes  n_connectors  \\\n",
       "0    PN glomerulus DA1 57316 ML 2863105     2863104     6774           470   \n",
       "1            PN glomerulus DA3 57350 HG       57349     7525           633   \n",
       "2            PN glomerulus DA1 57354 GA       57353     6985           370   \n",
       "3           PN glomerulus DL1 27304 JMR    11544074     9506          1069   \n",
       "4              PN glomerulus VA6 017 DB          16    16840          2158   \n",
       "..                                  ...         ...      ...           ...   \n",
       "108      PN glomerulus DA1 57324 LK JSL       57323     6223           481   \n",
       "109        PN glomerulus VL2a 22000 JMR       21999    14781          2001   \n",
       "110        PN glomerulus DL2d 57334 IJA       57333     5180           431   \n",
       "111        PN glomerulus DL2d 57338 IJA       57337     5204           362   \n",
       "112         PN glomerulus DL2d 57342 ML       57341     4405           278   \n",
       "\n",
       "     n_branch_nodes  n_end_nodes  open_ends  cable_length review_status  soma  \n",
       "0               280          292        198   1522.055763            NA  True  \n",
       "1               258          266         79   1487.804536            NA  True  \n",
       "2               225          236        162   1539.354946            NA  True  \n",
       "3               408          434        224   1991.525656            NA  True  \n",
       "4              1172         1230        680   4003.150775            NA  True  \n",
       "..              ...          ...        ...           ...           ...   ...  \n",
       "108             256          268        167   1483.462634            NA  True  \n",
       "109             854          900        548   3531.057252            NA  True  \n",
       "110             240          252        120   1337.451688            NA  True  \n",
       "111             200          215        132   1234.089251            NA  True  \n",
       "112             174          187        124   1128.007090            NA  True  \n",
       "\n",
       "[113 rows x 10 columns]"
      ]
     },
     "execution_count": 23,
     "metadata": {},
     "output_type": "execute_result"
    }
   ],
   "source": [
    "pns_pm_l"
   ]
  },
  {
   "cell_type": "code",
   "execution_count": null,
   "metadata": {},
   "outputs": [],
   "source": []
  },
  {
   "cell_type": "code",
   "execution_count": 12,
   "metadata": {},
   "outputs": [
    {
     "data": {
      "text/html": [
       "        <script type=\"text/javascript\">\n",
       "        window.PlotlyConfig = {MathJaxConfig: 'local'};\n",
       "        if (window.MathJax) {MathJax.Hub.Config({SVG: {font: \"STIX-Web\"}});}\n",
       "        if (typeof require !== 'undefined') {\n",
       "        require.undef(\"plotly\");\n",
       "        requirejs.config({\n",
       "            paths: {\n",
       "                'plotly': ['https://cdn.plot.ly/plotly-latest.min']\n",
       "            }\n",
       "        });\n",
       "        require(['plotly'], function(Plotly) {\n",
       "            window._Plotly = Plotly;\n",
       "        });\n",
       "        }\n",
       "        </script>\n",
       "        "
      ]
     },
     "metadata": {},
     "output_type": "display_data"
    },
    {
     "name": "stderr",
     "output_type": "stream",
     "text": [
      "INFO  : Global CATMAID instance set. Caching is ON. (pymaid)\n"
     ]
    }
   ],
   "source": []
  },
  {
   "cell_type": "code",
   "execution_count": 14,
   "metadata": {},
   "outputs": [
    {
     "data": {
      "text/html": [
       "<div>\n",
       "<style scoped>\n",
       "    .dataframe tbody tr th:only-of-type {\n",
       "        vertical-align: middle;\n",
       "    }\n",
       "\n",
       "    .dataframe tbody tr th {\n",
       "        vertical-align: top;\n",
       "    }\n",
       "\n",
       "    .dataframe thead th {\n",
       "        text-align: right;\n",
       "    }\n",
       "</style>\n",
       "<table border=\"1\" class=\"dataframe\">\n",
       "  <thead>\n",
       "    <tr style=\"text-align: right;\">\n",
       "      <th></th>\n",
       "      <th>neuron_name</th>\n",
       "      <th>skeleton_id</th>\n",
       "      <th>n_nodes</th>\n",
       "      <th>n_connectors</th>\n",
       "      <th>n_branch_nodes</th>\n",
       "      <th>n_end_nodes</th>\n",
       "      <th>open_ends</th>\n",
       "      <th>cable_length</th>\n",
       "      <th>review_status</th>\n",
       "      <th>soma</th>\n",
       "    </tr>\n",
       "  </thead>\n",
       "  <tbody>\n",
       "    <tr>\n",
       "      <th>0</th>\n",
       "      <td>PN glomerulus DA1 57316 ML 2863105</td>\n",
       "      <td>2863104</td>\n",
       "      <td>6774</td>\n",
       "      <td>470</td>\n",
       "      <td>280</td>\n",
       "      <td>292</td>\n",
       "      <td>198</td>\n",
       "      <td>1522.055763</td>\n",
       "      <td>NA</td>\n",
       "      <td>True</td>\n",
       "    </tr>\n",
       "    <tr>\n",
       "      <th>1</th>\n",
       "      <td>PN glomerulus DA3 57350 HG</td>\n",
       "      <td>57349</td>\n",
       "      <td>7525</td>\n",
       "      <td>633</td>\n",
       "      <td>258</td>\n",
       "      <td>266</td>\n",
       "      <td>79</td>\n",
       "      <td>1487.804536</td>\n",
       "      <td>NA</td>\n",
       "      <td>True</td>\n",
       "    </tr>\n",
       "    <tr>\n",
       "      <th>2</th>\n",
       "      <td>PN glomerulus DA1 57354 GA</td>\n",
       "      <td>57353</td>\n",
       "      <td>6985</td>\n",
       "      <td>370</td>\n",
       "      <td>225</td>\n",
       "      <td>236</td>\n",
       "      <td>162</td>\n",
       "      <td>1539.354946</td>\n",
       "      <td>NA</td>\n",
       "      <td>True</td>\n",
       "    </tr>\n",
       "    <tr>\n",
       "      <th>3</th>\n",
       "      <td>PN glomerulus DL1 27304 JMR</td>\n",
       "      <td>11544074</td>\n",
       "      <td>9506</td>\n",
       "      <td>1069</td>\n",
       "      <td>408</td>\n",
       "      <td>434</td>\n",
       "      <td>224</td>\n",
       "      <td>1991.525656</td>\n",
       "      <td>NA</td>\n",
       "      <td>True</td>\n",
       "    </tr>\n",
       "    <tr>\n",
       "      <th>4</th>\n",
       "      <td>PN glomerulus VA6 017 DB</td>\n",
       "      <td>16</td>\n",
       "      <td>16840</td>\n",
       "      <td>2158</td>\n",
       "      <td>1172</td>\n",
       "      <td>1230</td>\n",
       "      <td>680</td>\n",
       "      <td>4003.150775</td>\n",
       "      <td>NA</td>\n",
       "      <td>True</td>\n",
       "    </tr>\n",
       "    <tr>\n",
       "      <th>...</th>\n",
       "      <td>...</td>\n",
       "      <td>...</td>\n",
       "      <td>...</td>\n",
       "      <td>...</td>\n",
       "      <td>...</td>\n",
       "      <td>...</td>\n",
       "      <td>...</td>\n",
       "      <td>...</td>\n",
       "      <td>...</td>\n",
       "      <td>...</td>\n",
       "    </tr>\n",
       "    <tr>\n",
       "      <th>108</th>\n",
       "      <td>PN glomerulus DA1 57324 LK JSL</td>\n",
       "      <td>57323</td>\n",
       "      <td>6223</td>\n",
       "      <td>481</td>\n",
       "      <td>256</td>\n",
       "      <td>268</td>\n",
       "      <td>167</td>\n",
       "      <td>1483.462634</td>\n",
       "      <td>NA</td>\n",
       "      <td>True</td>\n",
       "    </tr>\n",
       "    <tr>\n",
       "      <th>109</th>\n",
       "      <td>PN glomerulus VL2a 22000 JMR</td>\n",
       "      <td>21999</td>\n",
       "      <td>14781</td>\n",
       "      <td>2001</td>\n",
       "      <td>854</td>\n",
       "      <td>900</td>\n",
       "      <td>548</td>\n",
       "      <td>3531.057252</td>\n",
       "      <td>NA</td>\n",
       "      <td>True</td>\n",
       "    </tr>\n",
       "    <tr>\n",
       "      <th>110</th>\n",
       "      <td>PN glomerulus DL2d 57334 IJA</td>\n",
       "      <td>57333</td>\n",
       "      <td>5180</td>\n",
       "      <td>431</td>\n",
       "      <td>240</td>\n",
       "      <td>252</td>\n",
       "      <td>120</td>\n",
       "      <td>1337.451688</td>\n",
       "      <td>NA</td>\n",
       "      <td>True</td>\n",
       "    </tr>\n",
       "    <tr>\n",
       "      <th>111</th>\n",
       "      <td>PN glomerulus DL2d 57338 IJA</td>\n",
       "      <td>57337</td>\n",
       "      <td>5204</td>\n",
       "      <td>362</td>\n",
       "      <td>200</td>\n",
       "      <td>215</td>\n",
       "      <td>132</td>\n",
       "      <td>1234.089251</td>\n",
       "      <td>NA</td>\n",
       "      <td>True</td>\n",
       "    </tr>\n",
       "    <tr>\n",
       "      <th>112</th>\n",
       "      <td>PN glomerulus DL2d 57342 ML</td>\n",
       "      <td>57341</td>\n",
       "      <td>4405</td>\n",
       "      <td>278</td>\n",
       "      <td>174</td>\n",
       "      <td>187</td>\n",
       "      <td>124</td>\n",
       "      <td>1128.007090</td>\n",
       "      <td>NA</td>\n",
       "      <td>True</td>\n",
       "    </tr>\n",
       "  </tbody>\n",
       "</table>\n",
       "<p>113 rows × 10 columns</p>\n",
       "</div>"
      ],
      "text/plain": [
       "<class 'pymaid.core.CatmaidNeuronList'> of 113 neurons \n",
       "                             neuron_name skeleton_id  n_nodes  n_connectors  \\\n",
       "0    PN glomerulus DA1 57316 ML 2863105     2863104     6774           470   \n",
       "1            PN glomerulus DA3 57350 HG       57349     7525           633   \n",
       "2            PN glomerulus DA1 57354 GA       57353     6985           370   \n",
       "3           PN glomerulus DL1 27304 JMR    11544074     9506          1069   \n",
       "4              PN glomerulus VA6 017 DB          16    16840          2158   \n",
       "..                                  ...         ...      ...           ...   \n",
       "108      PN glomerulus DA1 57324 LK JSL       57323     6223           481   \n",
       "109        PN glomerulus VL2a 22000 JMR       21999    14781          2001   \n",
       "110        PN glomerulus DL2d 57334 IJA       57333     5180           431   \n",
       "111        PN glomerulus DL2d 57338 IJA       57337     5204           362   \n",
       "112         PN glomerulus DL2d 57342 ML       57341     4405           278   \n",
       "\n",
       "     n_branch_nodes  n_end_nodes  open_ends  cable_length review_status  soma  \n",
       "0               280          292        198   1522.055763            NA  True  \n",
       "1               258          266         79   1487.804536            NA  True  \n",
       "2               225          236        162   1539.354946            NA  True  \n",
       "3               408          434        224   1991.525656            NA  True  \n",
       "4              1172         1230        680   4003.150775            NA  True  \n",
       "..              ...          ...        ...           ...           ...   ...  \n",
       "108             256          268        167   1483.462634            NA  True  \n",
       "109             854          900        548   3531.057252            NA  True  \n",
       "110             240          252        120   1337.451688            NA  True  \n",
       "111             200          215        132   1234.089251            NA  True  \n",
       "112             174          187        124   1128.007090            NA  True  \n",
       "\n",
       "[113 rows x 10 columns]"
      ]
     },
     "execution_count": 14,
     "metadata": {},
     "output_type": "execute_result"
    }
   ],
   "source": [
    "pns_pm"
   ]
  },
  {
   "cell_type": "code",
   "execution_count": 5,
   "metadata": {},
   "outputs": [
    {
     "ename": "NameError",
     "evalue": "name 'pns_pm' is not defined",
     "output_type": "error",
     "traceback": [
      "\u001b[0;31m---------------------------------------------------------------------------\u001b[0m",
      "\u001b[0;31mNameError\u001b[0m                                 Traceback (most recent call last)",
      "\u001b[0;32m<ipython-input-5-03fac3f40957>\u001b[0m in \u001b[0;36m<module>\u001b[0;34m\u001b[0m\n\u001b[0;32m----> 1\u001b[0;31m \u001b[0mpns_pm\u001b[0m\u001b[0;34m\u001b[0m\u001b[0;34m\u001b[0m\u001b[0m\n\u001b[0m",
      "\u001b[0;31mNameError\u001b[0m: name 'pns_pm' is not defined"
     ]
    }
   ],
   "source": [
    "pns_pm"
   ]
  },
  {
   "cell_type": "code",
   "execution_count": 5,
   "metadata": {},
   "outputs": [
    {
     "data": {
      "text/plain": [
       "array([0. , 0.5, 1. , 1.5, 2. , 2.5, 3. , 3.5])"
      ]
     },
     "execution_count": 5,
     "metadata": {},
     "output_type": "execute_result"
    }
   ],
   "source": [
    "import numpy as np\n",
    "np.linspace(0, 3.5, 8)"
   ]
  },
  {
   "cell_type": "code",
   "execution_count": null,
   "metadata": {},
   "outputs": [],
   "source": []
  }
 ],
 "metadata": {
  "kernelspec": {
   "display_name": "Python 3",
   "language": "python",
   "name": "python3"
  },
  "language_info": {
   "codemirror_mode": {
    "name": "ipython",
    "version": 3
   },
   "file_extension": ".py",
   "mimetype": "text/x-python",
   "name": "python",
   "nbconvert_exporter": "python",
   "pygments_lexer": "ipython3",
   "version": "3.7.3"
  }
 },
 "nbformat": 4,
 "nbformat_minor": 4
}
